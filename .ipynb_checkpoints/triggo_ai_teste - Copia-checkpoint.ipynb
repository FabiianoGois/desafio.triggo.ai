{
 "cells": [
  {
   "cell_type": "code",
   "execution_count": 705,
   "id": "1d014a35-1c42-4b0e-9a85-0f262c961fec",
   "metadata": {},
   "outputs": [],
   "source": [
    "#!pip install graphviz"
   ]
  },
  {
   "cell_type": "markdown",
   "id": "f7f5a77d-c494-48ca-8ead-8f925a49a95a",
   "metadata": {
    "jp-MarkdownHeadingCollapsed": true
   },
   "source": [
    "## Imports e Configurações"
   ]
  },
  {
   "cell_type": "code",
   "execution_count": null,
   "id": "5599e259-0f7d-4f3f-be7d-3ac7ce242040",
   "metadata": {},
   "outputs": [],
   "source": [
    "\n",
    "# Bibliotecas de análise e visualização\n",
    "import pandas as pd\n",
    "import numpy as np\n",
    "import matplotlib.pyplot as plt\n",
    "import seaborn as sns\n",
    "import plotly.express as px\n",
    "from graphviz import Digraph\n",
    "import sqlite3\n",
    "import matplotlib.pyplot as plt \n",
    "import os\n",
    "import plotly.graph_objects as go\n",
    "import matplotlib.patches as mpatches\n",
    "\n",
    "# Caminho para o executável dot (ajuste se estiver em outro local)\n",
    "os.environ[\"PATH\"] += os.pathsep + r\"C:\\Program Files\\Graphviz\\bin\""
   ]
  },
  {
   "cell_type": "code",
   "execution_count": null,
   "id": "adac4d1d-1e49-457b-a02a-d98722297949",
   "metadata": {},
   "outputs": [],
   "source": [
    "\n",
    "plt.style.use('default')\n",
    "sns.set_palette('viridis')\n",
    "%matplotlib inline"
   ]
  },
  {
   "cell_type": "markdown",
   "id": "8ef992e1-77f7-4cab-b8ab-ffc819b53fa3",
   "metadata": {
    "jp-MarkdownHeadingCollapsed": true
   },
   "source": [
    "## Carregamento dos Dados"
   ]
  },
  {
   "cell_type": "code",
   "execution_count": 5,
   "id": "80465da1-bd07-4d96-8dfd-460d5d010529",
   "metadata": {},
   "outputs": [],
   "source": [
    "customers = pd.read_csv('olist_customers_dataset.csv')\n",
    "geolocation = pd.read_csv('olist_geolocation_dataset.csv')\n",
    "order_items = pd.read_csv('olist_order_items_dataset.csv')\n",
    "order_payments = pd.read_csv('olist_order_payments_dataset.csv')\n",
    "order_reviews = pd.read_csv('olist_order_reviews_dataset.csv')\n",
    "orders = pd.read_csv('olist_orders_dataset.csv')\n",
    "products = pd.read_csv('olist_products_dataset.csv')\n",
    "sellers = pd.read_csv('olist_sellers_dataset.csv')\n",
    "product_category_translation = pd.read_csv('product_category_name_translation.csv')"
   ]
  },
  {
   "cell_type": "code",
   "execution_count": 629,
   "id": "15f5dbb1-0f72-4a50-a112-3a49b34964e6",
   "metadata": {},
   "outputs": [],
   "source": [
    "# teste\n",
    "\n",
    "#customers.head()\n",
    "#geolocation.head()\n",
    "#order_items.head()\n",
    "#order_payments.head()\n",
    "#order_reviews.head()\n",
    "#orders.head()\n",
    "#products.head()\n",
    "#sellers.head()\n",
    "#product_category_translation.head()"
   ]
  },
  {
   "cell_type": "markdown",
   "id": "924f6183-e734-44f8-9724-80abc5555ea3",
   "metadata": {
    "jp-MarkdownHeadingCollapsed": true
   },
   "source": [
    "## Limpeza e Padronização dos Dados"
   ]
  },
  {
   "cell_type": "code",
   "execution_count": 7,
   "id": "8cc2af1a-0c8e-4da2-b6b5-c3b689dfb4c9",
   "metadata": {},
   "outputs": [],
   "source": [
    "# Função auxiliar para resumo geral\n",
    "def resumo_df(df):\n",
    "    return pd.DataFrame({\n",
    "        'Tipo': df.dtypes,\n",
    "        'Nulos (%)': df.isnull().mean() * 100,\n",
    "        'Únicos': df.nunique(),\n",
    "        'Exemplos': df.apply(lambda x: ', '.join(map(str, x.dropna().unique()[:3])))\n",
    "    })"
   ]
  },
  {
   "cell_type": "code",
   "execution_count": 9,
   "id": "79e77e44-f129-4eec-bf4c-767f7c8b3471",
   "metadata": {},
   "outputs": [
    {
     "name": "stdout",
     "output_type": "stream",
     "text": [
      "\n",
      "CUSTOMERS\n"
     ]
    },
    {
     "data": {
      "text/html": [
       "<div>\n",
       "<style scoped>\n",
       "    .dataframe tbody tr th:only-of-type {\n",
       "        vertical-align: middle;\n",
       "    }\n",
       "\n",
       "    .dataframe tbody tr th {\n",
       "        vertical-align: top;\n",
       "    }\n",
       "\n",
       "    .dataframe thead th {\n",
       "        text-align: right;\n",
       "    }\n",
       "</style>\n",
       "<table border=\"1\" class=\"dataframe\">\n",
       "  <thead>\n",
       "    <tr style=\"text-align: right;\">\n",
       "      <th></th>\n",
       "      <th>Tipo</th>\n",
       "      <th>Nulos (%)</th>\n",
       "      <th>Únicos</th>\n",
       "      <th>Exemplos</th>\n",
       "    </tr>\n",
       "  </thead>\n",
       "  <tbody>\n",
       "    <tr>\n",
       "      <th>customer_id</th>\n",
       "      <td>object</td>\n",
       "      <td>0.0</td>\n",
       "      <td>99441</td>\n",
       "      <td>06b8999e2fba1a1fbc88172c00ba8bc7, 18955e83d337...</td>\n",
       "    </tr>\n",
       "    <tr>\n",
       "      <th>customer_unique_id</th>\n",
       "      <td>object</td>\n",
       "      <td>0.0</td>\n",
       "      <td>96096</td>\n",
       "      <td>861eff4711a542e4b93843c6dd7febb0, 290c77bc529b...</td>\n",
       "    </tr>\n",
       "    <tr>\n",
       "      <th>customer_zip_code_prefix</th>\n",
       "      <td>int64</td>\n",
       "      <td>0.0</td>\n",
       "      <td>14994</td>\n",
       "      <td>14409, 9790, 1151</td>\n",
       "    </tr>\n",
       "    <tr>\n",
       "      <th>customer_city</th>\n",
       "      <td>object</td>\n",
       "      <td>0.0</td>\n",
       "      <td>4119</td>\n",
       "      <td>franca, sao bernardo do campo, sao paulo</td>\n",
       "    </tr>\n",
       "    <tr>\n",
       "      <th>customer_state</th>\n",
       "      <td>object</td>\n",
       "      <td>0.0</td>\n",
       "      <td>27</td>\n",
       "      <td>SP, SC, MG</td>\n",
       "    </tr>\n",
       "  </tbody>\n",
       "</table>\n",
       "</div>"
      ],
      "text/plain": [
       "                            Tipo  Nulos (%)  Únicos  \\\n",
       "customer_id               object        0.0   99441   \n",
       "customer_unique_id        object        0.0   96096   \n",
       "customer_zip_code_prefix   int64        0.0   14994   \n",
       "customer_city             object        0.0    4119   \n",
       "customer_state            object        0.0      27   \n",
       "\n",
       "                                                                   Exemplos  \n",
       "customer_id               06b8999e2fba1a1fbc88172c00ba8bc7, 18955e83d337...  \n",
       "customer_unique_id        861eff4711a542e4b93843c6dd7febb0, 290c77bc529b...  \n",
       "customer_zip_code_prefix                                  14409, 9790, 1151  \n",
       "customer_city                      franca, sao bernardo do campo, sao paulo  \n",
       "customer_state                                                   SP, SC, MG  "
      ]
     },
     "metadata": {},
     "output_type": "display_data"
    },
    {
     "name": "stdout",
     "output_type": "stream",
     "text": [
      "\n",
      "GEOLOCATION\n"
     ]
    },
    {
     "data": {
      "text/html": [
       "<div>\n",
       "<style scoped>\n",
       "    .dataframe tbody tr th:only-of-type {\n",
       "        vertical-align: middle;\n",
       "    }\n",
       "\n",
       "    .dataframe tbody tr th {\n",
       "        vertical-align: top;\n",
       "    }\n",
       "\n",
       "    .dataframe thead th {\n",
       "        text-align: right;\n",
       "    }\n",
       "</style>\n",
       "<table border=\"1\" class=\"dataframe\">\n",
       "  <thead>\n",
       "    <tr style=\"text-align: right;\">\n",
       "      <th></th>\n",
       "      <th>Tipo</th>\n",
       "      <th>Nulos (%)</th>\n",
       "      <th>Únicos</th>\n",
       "      <th>Exemplos</th>\n",
       "    </tr>\n",
       "  </thead>\n",
       "  <tbody>\n",
       "    <tr>\n",
       "      <th>geolocation_zip_code_prefix</th>\n",
       "      <td>int64</td>\n",
       "      <td>0.0</td>\n",
       "      <td>19015</td>\n",
       "      <td>1037, 1046, 1041</td>\n",
       "    </tr>\n",
       "    <tr>\n",
       "      <th>geolocation_lat</th>\n",
       "      <td>float64</td>\n",
       "      <td>0.0</td>\n",
       "      <td>717360</td>\n",
       "      <td>-23.54562128115268, -23.54608112703553, -23.54...</td>\n",
       "    </tr>\n",
       "    <tr>\n",
       "      <th>geolocation_lng</th>\n",
       "      <td>float64</td>\n",
       "      <td>0.0</td>\n",
       "      <td>717613</td>\n",
       "      <td>-46.63929204800168, -46.64482029837157, -46.64...</td>\n",
       "    </tr>\n",
       "    <tr>\n",
       "      <th>geolocation_city</th>\n",
       "      <td>object</td>\n",
       "      <td>0.0</td>\n",
       "      <td>8011</td>\n",
       "      <td>sao paulo, são paulo, sao bernardo do campo</td>\n",
       "    </tr>\n",
       "    <tr>\n",
       "      <th>geolocation_state</th>\n",
       "      <td>object</td>\n",
       "      <td>0.0</td>\n",
       "      <td>27</td>\n",
       "      <td>SP, RN, AC</td>\n",
       "    </tr>\n",
       "  </tbody>\n",
       "</table>\n",
       "</div>"
      ],
      "text/plain": [
       "                                Tipo  Nulos (%)  Únicos  \\\n",
       "geolocation_zip_code_prefix    int64        0.0   19015   \n",
       "geolocation_lat              float64        0.0  717360   \n",
       "geolocation_lng              float64        0.0  717613   \n",
       "geolocation_city              object        0.0    8011   \n",
       "geolocation_state             object        0.0      27   \n",
       "\n",
       "                                                                      Exemplos  \n",
       "geolocation_zip_code_prefix                                   1037, 1046, 1041  \n",
       "geolocation_lat              -23.54562128115268, -23.54608112703553, -23.54...  \n",
       "geolocation_lng              -46.63929204800168, -46.64482029837157, -46.64...  \n",
       "geolocation_city                   sao paulo, são paulo, sao bernardo do campo  \n",
       "geolocation_state                                                   SP, RN, AC  "
      ]
     },
     "metadata": {},
     "output_type": "display_data"
    },
    {
     "name": "stdout",
     "output_type": "stream",
     "text": [
      "\n",
      "ORDER_ITEMS\n"
     ]
    },
    {
     "data": {
      "text/html": [
       "<div>\n",
       "<style scoped>\n",
       "    .dataframe tbody tr th:only-of-type {\n",
       "        vertical-align: middle;\n",
       "    }\n",
       "\n",
       "    .dataframe tbody tr th {\n",
       "        vertical-align: top;\n",
       "    }\n",
       "\n",
       "    .dataframe thead th {\n",
       "        text-align: right;\n",
       "    }\n",
       "</style>\n",
       "<table border=\"1\" class=\"dataframe\">\n",
       "  <thead>\n",
       "    <tr style=\"text-align: right;\">\n",
       "      <th></th>\n",
       "      <th>Tipo</th>\n",
       "      <th>Nulos (%)</th>\n",
       "      <th>Únicos</th>\n",
       "      <th>Exemplos</th>\n",
       "    </tr>\n",
       "  </thead>\n",
       "  <tbody>\n",
       "    <tr>\n",
       "      <th>order_id</th>\n",
       "      <td>object</td>\n",
       "      <td>0.0</td>\n",
       "      <td>98666</td>\n",
       "      <td>00010242fe8c5a6d1ba2dd792cb16214, 00018f77f2f0...</td>\n",
       "    </tr>\n",
       "    <tr>\n",
       "      <th>order_item_id</th>\n",
       "      <td>int64</td>\n",
       "      <td>0.0</td>\n",
       "      <td>21</td>\n",
       "      <td>1, 2, 3</td>\n",
       "    </tr>\n",
       "    <tr>\n",
       "      <th>product_id</th>\n",
       "      <td>object</td>\n",
       "      <td>0.0</td>\n",
       "      <td>32951</td>\n",
       "      <td>4244733e06e7ecb4970a6e2683c13e61, e5f2d52b8021...</td>\n",
       "    </tr>\n",
       "    <tr>\n",
       "      <th>seller_id</th>\n",
       "      <td>object</td>\n",
       "      <td>0.0</td>\n",
       "      <td>3095</td>\n",
       "      <td>48436dade18ac8b2bce089ec2a041202, dd7ddc04e1b6...</td>\n",
       "    </tr>\n",
       "    <tr>\n",
       "      <th>shipping_limit_date</th>\n",
       "      <td>object</td>\n",
       "      <td>0.0</td>\n",
       "      <td>93318</td>\n",
       "      <td>2017-09-19 09:45:35, 2017-05-03 11:05:13, 2018...</td>\n",
       "    </tr>\n",
       "    <tr>\n",
       "      <th>price</th>\n",
       "      <td>float64</td>\n",
       "      <td>0.0</td>\n",
       "      <td>5968</td>\n",
       "      <td>58.9, 239.9, 199.0</td>\n",
       "    </tr>\n",
       "    <tr>\n",
       "      <th>freight_value</th>\n",
       "      <td>float64</td>\n",
       "      <td>0.0</td>\n",
       "      <td>6999</td>\n",
       "      <td>13.29, 19.93, 17.87</td>\n",
       "    </tr>\n",
       "  </tbody>\n",
       "</table>\n",
       "</div>"
      ],
      "text/plain": [
       "                        Tipo  Nulos (%)  Únicos  \\\n",
       "order_id              object        0.0   98666   \n",
       "order_item_id          int64        0.0      21   \n",
       "product_id            object        0.0   32951   \n",
       "seller_id             object        0.0    3095   \n",
       "shipping_limit_date   object        0.0   93318   \n",
       "price                float64        0.0    5968   \n",
       "freight_value        float64        0.0    6999   \n",
       "\n",
       "                                                              Exemplos  \n",
       "order_id             00010242fe8c5a6d1ba2dd792cb16214, 00018f77f2f0...  \n",
       "order_item_id                                                  1, 2, 3  \n",
       "product_id           4244733e06e7ecb4970a6e2683c13e61, e5f2d52b8021...  \n",
       "seller_id            48436dade18ac8b2bce089ec2a041202, dd7ddc04e1b6...  \n",
       "shipping_limit_date  2017-09-19 09:45:35, 2017-05-03 11:05:13, 2018...  \n",
       "price                                               58.9, 239.9, 199.0  \n",
       "freight_value                                      13.29, 19.93, 17.87  "
      ]
     },
     "metadata": {},
     "output_type": "display_data"
    },
    {
     "name": "stdout",
     "output_type": "stream",
     "text": [
      "\n",
      "ORDER_PAYMENTS\n"
     ]
    },
    {
     "data": {
      "text/html": [
       "<div>\n",
       "<style scoped>\n",
       "    .dataframe tbody tr th:only-of-type {\n",
       "        vertical-align: middle;\n",
       "    }\n",
       "\n",
       "    .dataframe tbody tr th {\n",
       "        vertical-align: top;\n",
       "    }\n",
       "\n",
       "    .dataframe thead th {\n",
       "        text-align: right;\n",
       "    }\n",
       "</style>\n",
       "<table border=\"1\" class=\"dataframe\">\n",
       "  <thead>\n",
       "    <tr style=\"text-align: right;\">\n",
       "      <th></th>\n",
       "      <th>Tipo</th>\n",
       "      <th>Nulos (%)</th>\n",
       "      <th>Únicos</th>\n",
       "      <th>Exemplos</th>\n",
       "    </tr>\n",
       "  </thead>\n",
       "  <tbody>\n",
       "    <tr>\n",
       "      <th>order_id</th>\n",
       "      <td>object</td>\n",
       "      <td>0.0</td>\n",
       "      <td>99440</td>\n",
       "      <td>b81ef226f3fe1789b1e8b2acac839d17, a9810da82917...</td>\n",
       "    </tr>\n",
       "    <tr>\n",
       "      <th>payment_sequential</th>\n",
       "      <td>int64</td>\n",
       "      <td>0.0</td>\n",
       "      <td>29</td>\n",
       "      <td>1, 2, 4</td>\n",
       "    </tr>\n",
       "    <tr>\n",
       "      <th>payment_type</th>\n",
       "      <td>object</td>\n",
       "      <td>0.0</td>\n",
       "      <td>5</td>\n",
       "      <td>credit_card, boleto, voucher</td>\n",
       "    </tr>\n",
       "    <tr>\n",
       "      <th>payment_installments</th>\n",
       "      <td>int64</td>\n",
       "      <td>0.0</td>\n",
       "      <td>24</td>\n",
       "      <td>8, 1, 2</td>\n",
       "    </tr>\n",
       "    <tr>\n",
       "      <th>payment_value</th>\n",
       "      <td>float64</td>\n",
       "      <td>0.0</td>\n",
       "      <td>29077</td>\n",
       "      <td>99.33, 24.39, 65.71</td>\n",
       "    </tr>\n",
       "  </tbody>\n",
       "</table>\n",
       "</div>"
      ],
      "text/plain": [
       "                         Tipo  Nulos (%)  Únicos  \\\n",
       "order_id               object        0.0   99440   \n",
       "payment_sequential      int64        0.0      29   \n",
       "payment_type           object        0.0       5   \n",
       "payment_installments    int64        0.0      24   \n",
       "payment_value         float64        0.0   29077   \n",
       "\n",
       "                                                               Exemplos  \n",
       "order_id              b81ef226f3fe1789b1e8b2acac839d17, a9810da82917...  \n",
       "payment_sequential                                              1, 2, 4  \n",
       "payment_type                               credit_card, boleto, voucher  \n",
       "payment_installments                                            8, 1, 2  \n",
       "payment_value                                       99.33, 24.39, 65.71  "
      ]
     },
     "metadata": {},
     "output_type": "display_data"
    },
    {
     "name": "stdout",
     "output_type": "stream",
     "text": [
      "\n",
      "ORDER_REVIEWS\n"
     ]
    },
    {
     "data": {
      "text/html": [
       "<div>\n",
       "<style scoped>\n",
       "    .dataframe tbody tr th:only-of-type {\n",
       "        vertical-align: middle;\n",
       "    }\n",
       "\n",
       "    .dataframe tbody tr th {\n",
       "        vertical-align: top;\n",
       "    }\n",
       "\n",
       "    .dataframe thead th {\n",
       "        text-align: right;\n",
       "    }\n",
       "</style>\n",
       "<table border=\"1\" class=\"dataframe\">\n",
       "  <thead>\n",
       "    <tr style=\"text-align: right;\">\n",
       "      <th></th>\n",
       "      <th>Tipo</th>\n",
       "      <th>Nulos (%)</th>\n",
       "      <th>Únicos</th>\n",
       "      <th>Exemplos</th>\n",
       "    </tr>\n",
       "  </thead>\n",
       "  <tbody>\n",
       "    <tr>\n",
       "      <th>review_id</th>\n",
       "      <td>object</td>\n",
       "      <td>0.000000</td>\n",
       "      <td>98410</td>\n",
       "      <td>7bc2406110b926393aa56f80a40eba40, 80e641a11e56...</td>\n",
       "    </tr>\n",
       "    <tr>\n",
       "      <th>order_id</th>\n",
       "      <td>object</td>\n",
       "      <td>0.000000</td>\n",
       "      <td>98673</td>\n",
       "      <td>73fc7af87114b39712e6da79b0a377eb, a548910a1c61...</td>\n",
       "    </tr>\n",
       "    <tr>\n",
       "      <th>review_score</th>\n",
       "      <td>int64</td>\n",
       "      <td>0.000000</td>\n",
       "      <td>5</td>\n",
       "      <td>4, 5, 1</td>\n",
       "    </tr>\n",
       "    <tr>\n",
       "      <th>review_comment_title</th>\n",
       "      <td>object</td>\n",
       "      <td>88.341530</td>\n",
       "      <td>4527</td>\n",
       "      <td>recomendo, Super recomendo, Não chegou meu pro...</td>\n",
       "    </tr>\n",
       "    <tr>\n",
       "      <th>review_comment_message</th>\n",
       "      <td>object</td>\n",
       "      <td>58.702532</td>\n",
       "      <td>36159</td>\n",
       "      <td>Recebi bem antes do prazo estipulado., Parabén...</td>\n",
       "    </tr>\n",
       "    <tr>\n",
       "      <th>review_creation_date</th>\n",
       "      <td>object</td>\n",
       "      <td>0.000000</td>\n",
       "      <td>636</td>\n",
       "      <td>2018-01-18 00:00:00, 2018-03-10 00:00:00, 2018...</td>\n",
       "    </tr>\n",
       "    <tr>\n",
       "      <th>review_answer_timestamp</th>\n",
       "      <td>object</td>\n",
       "      <td>0.000000</td>\n",
       "      <td>98248</td>\n",
       "      <td>2018-01-18 21:46:59, 2018-03-11 03:05:13, 2018...</td>\n",
       "    </tr>\n",
       "  </tbody>\n",
       "</table>\n",
       "</div>"
      ],
      "text/plain": [
       "                           Tipo  Nulos (%)  Únicos  \\\n",
       "review_id                object   0.000000   98410   \n",
       "order_id                 object   0.000000   98673   \n",
       "review_score              int64   0.000000       5   \n",
       "review_comment_title     object  88.341530    4527   \n",
       "review_comment_message   object  58.702532   36159   \n",
       "review_creation_date     object   0.000000     636   \n",
       "review_answer_timestamp  object   0.000000   98248   \n",
       "\n",
       "                                                                  Exemplos  \n",
       "review_id                7bc2406110b926393aa56f80a40eba40, 80e641a11e56...  \n",
       "order_id                 73fc7af87114b39712e6da79b0a377eb, a548910a1c61...  \n",
       "review_score                                                       4, 5, 1  \n",
       "review_comment_title     recomendo, Super recomendo, Não chegou meu pro...  \n",
       "review_comment_message   Recebi bem antes do prazo estipulado., Parabén...  \n",
       "review_creation_date     2018-01-18 00:00:00, 2018-03-10 00:00:00, 2018...  \n",
       "review_answer_timestamp  2018-01-18 21:46:59, 2018-03-11 03:05:13, 2018...  "
      ]
     },
     "metadata": {},
     "output_type": "display_data"
    },
    {
     "name": "stdout",
     "output_type": "stream",
     "text": [
      "\n",
      "ORDERS\n"
     ]
    },
    {
     "data": {
      "text/html": [
       "<div>\n",
       "<style scoped>\n",
       "    .dataframe tbody tr th:only-of-type {\n",
       "        vertical-align: middle;\n",
       "    }\n",
       "\n",
       "    .dataframe tbody tr th {\n",
       "        vertical-align: top;\n",
       "    }\n",
       "\n",
       "    .dataframe thead th {\n",
       "        text-align: right;\n",
       "    }\n",
       "</style>\n",
       "<table border=\"1\" class=\"dataframe\">\n",
       "  <thead>\n",
       "    <tr style=\"text-align: right;\">\n",
       "      <th></th>\n",
       "      <th>Tipo</th>\n",
       "      <th>Nulos (%)</th>\n",
       "      <th>Únicos</th>\n",
       "      <th>Exemplos</th>\n",
       "    </tr>\n",
       "  </thead>\n",
       "  <tbody>\n",
       "    <tr>\n",
       "      <th>order_id</th>\n",
       "      <td>object</td>\n",
       "      <td>0.000000</td>\n",
       "      <td>99441</td>\n",
       "      <td>e481f51cbdc54678b7cc49136f2d6af7, 53cdb2fc8bc7...</td>\n",
       "    </tr>\n",
       "    <tr>\n",
       "      <th>customer_id</th>\n",
       "      <td>object</td>\n",
       "      <td>0.000000</td>\n",
       "      <td>99441</td>\n",
       "      <td>9ef432eb6251297304e76186b10a928d, b0830fb4747a...</td>\n",
       "    </tr>\n",
       "    <tr>\n",
       "      <th>order_status</th>\n",
       "      <td>object</td>\n",
       "      <td>0.000000</td>\n",
       "      <td>8</td>\n",
       "      <td>delivered, invoiced, shipped</td>\n",
       "    </tr>\n",
       "    <tr>\n",
       "      <th>order_purchase_timestamp</th>\n",
       "      <td>object</td>\n",
       "      <td>0.000000</td>\n",
       "      <td>98875</td>\n",
       "      <td>2017-10-02 10:56:33, 2018-07-24 20:41:37, 2018...</td>\n",
       "    </tr>\n",
       "    <tr>\n",
       "      <th>order_approved_at</th>\n",
       "      <td>object</td>\n",
       "      <td>0.160899</td>\n",
       "      <td>90733</td>\n",
       "      <td>2017-10-02 11:07:15, 2018-07-26 03:24:27, 2018...</td>\n",
       "    </tr>\n",
       "    <tr>\n",
       "      <th>order_delivered_carrier_date</th>\n",
       "      <td>object</td>\n",
       "      <td>1.793023</td>\n",
       "      <td>81018</td>\n",
       "      <td>2017-10-04 19:55:00, 2018-07-26 14:31:00, 2018...</td>\n",
       "    </tr>\n",
       "    <tr>\n",
       "      <th>order_delivered_customer_date</th>\n",
       "      <td>object</td>\n",
       "      <td>2.981668</td>\n",
       "      <td>95664</td>\n",
       "      <td>2017-10-10 21:25:13, 2018-08-07 15:27:45, 2018...</td>\n",
       "    </tr>\n",
       "    <tr>\n",
       "      <th>order_estimated_delivery_date</th>\n",
       "      <td>object</td>\n",
       "      <td>0.000000</td>\n",
       "      <td>459</td>\n",
       "      <td>2017-10-18 00:00:00, 2018-08-13 00:00:00, 2018...</td>\n",
       "    </tr>\n",
       "  </tbody>\n",
       "</table>\n",
       "</div>"
      ],
      "text/plain": [
       "                                 Tipo  Nulos (%)  Únicos  \\\n",
       "order_id                       object   0.000000   99441   \n",
       "customer_id                    object   0.000000   99441   \n",
       "order_status                   object   0.000000       8   \n",
       "order_purchase_timestamp       object   0.000000   98875   \n",
       "order_approved_at              object   0.160899   90733   \n",
       "order_delivered_carrier_date   object   1.793023   81018   \n",
       "order_delivered_customer_date  object   2.981668   95664   \n",
       "order_estimated_delivery_date  object   0.000000     459   \n",
       "\n",
       "                                                                        Exemplos  \n",
       "order_id                       e481f51cbdc54678b7cc49136f2d6af7, 53cdb2fc8bc7...  \n",
       "customer_id                    9ef432eb6251297304e76186b10a928d, b0830fb4747a...  \n",
       "order_status                                        delivered, invoiced, shipped  \n",
       "order_purchase_timestamp       2017-10-02 10:56:33, 2018-07-24 20:41:37, 2018...  \n",
       "order_approved_at              2017-10-02 11:07:15, 2018-07-26 03:24:27, 2018...  \n",
       "order_delivered_carrier_date   2017-10-04 19:55:00, 2018-07-26 14:31:00, 2018...  \n",
       "order_delivered_customer_date  2017-10-10 21:25:13, 2018-08-07 15:27:45, 2018...  \n",
       "order_estimated_delivery_date  2017-10-18 00:00:00, 2018-08-13 00:00:00, 2018...  "
      ]
     },
     "metadata": {},
     "output_type": "display_data"
    },
    {
     "name": "stdout",
     "output_type": "stream",
     "text": [
      "\n",
      "PRODUCTS\n"
     ]
    },
    {
     "data": {
      "text/html": [
       "<div>\n",
       "<style scoped>\n",
       "    .dataframe tbody tr th:only-of-type {\n",
       "        vertical-align: middle;\n",
       "    }\n",
       "\n",
       "    .dataframe tbody tr th {\n",
       "        vertical-align: top;\n",
       "    }\n",
       "\n",
       "    .dataframe thead th {\n",
       "        text-align: right;\n",
       "    }\n",
       "</style>\n",
       "<table border=\"1\" class=\"dataframe\">\n",
       "  <thead>\n",
       "    <tr style=\"text-align: right;\">\n",
       "      <th></th>\n",
       "      <th>Tipo</th>\n",
       "      <th>Nulos (%)</th>\n",
       "      <th>Únicos</th>\n",
       "      <th>Exemplos</th>\n",
       "    </tr>\n",
       "  </thead>\n",
       "  <tbody>\n",
       "    <tr>\n",
       "      <th>product_id</th>\n",
       "      <td>object</td>\n",
       "      <td>0.000000</td>\n",
       "      <td>32951</td>\n",
       "      <td>1e9e8ef04dbcff4541ed26657ea517e5, 3aa071139cb1...</td>\n",
       "    </tr>\n",
       "    <tr>\n",
       "      <th>product_category_name</th>\n",
       "      <td>object</td>\n",
       "      <td>1.851234</td>\n",
       "      <td>73</td>\n",
       "      <td>perfumaria, artes, esporte_lazer</td>\n",
       "    </tr>\n",
       "    <tr>\n",
       "      <th>product_name_lenght</th>\n",
       "      <td>float64</td>\n",
       "      <td>1.851234</td>\n",
       "      <td>66</td>\n",
       "      <td>40.0, 44.0, 46.0</td>\n",
       "    </tr>\n",
       "    <tr>\n",
       "      <th>product_description_lenght</th>\n",
       "      <td>float64</td>\n",
       "      <td>1.851234</td>\n",
       "      <td>2960</td>\n",
       "      <td>287.0, 276.0, 250.0</td>\n",
       "    </tr>\n",
       "    <tr>\n",
       "      <th>product_photos_qty</th>\n",
       "      <td>float64</td>\n",
       "      <td>1.851234</td>\n",
       "      <td>19</td>\n",
       "      <td>1.0, 4.0, 2.0</td>\n",
       "    </tr>\n",
       "    <tr>\n",
       "      <th>product_weight_g</th>\n",
       "      <td>float64</td>\n",
       "      <td>0.006070</td>\n",
       "      <td>2204</td>\n",
       "      <td>225.0, 1000.0, 154.0</td>\n",
       "    </tr>\n",
       "    <tr>\n",
       "      <th>product_length_cm</th>\n",
       "      <td>float64</td>\n",
       "      <td>0.006070</td>\n",
       "      <td>99</td>\n",
       "      <td>16.0, 30.0, 18.0</td>\n",
       "    </tr>\n",
       "    <tr>\n",
       "      <th>product_height_cm</th>\n",
       "      <td>float64</td>\n",
       "      <td>0.006070</td>\n",
       "      <td>102</td>\n",
       "      <td>10.0, 18.0, 9.0</td>\n",
       "    </tr>\n",
       "    <tr>\n",
       "      <th>product_width_cm</th>\n",
       "      <td>float64</td>\n",
       "      <td>0.006070</td>\n",
       "      <td>95</td>\n",
       "      <td>14.0, 20.0, 15.0</td>\n",
       "    </tr>\n",
       "  </tbody>\n",
       "</table>\n",
       "</div>"
      ],
      "text/plain": [
       "                               Tipo  Nulos (%)  Únicos  \\\n",
       "product_id                   object   0.000000   32951   \n",
       "product_category_name        object   1.851234      73   \n",
       "product_name_lenght         float64   1.851234      66   \n",
       "product_description_lenght  float64   1.851234    2960   \n",
       "product_photos_qty          float64   1.851234      19   \n",
       "product_weight_g            float64   0.006070    2204   \n",
       "product_length_cm           float64   0.006070      99   \n",
       "product_height_cm           float64   0.006070     102   \n",
       "product_width_cm            float64   0.006070      95   \n",
       "\n",
       "                                                                     Exemplos  \n",
       "product_id                  1e9e8ef04dbcff4541ed26657ea517e5, 3aa071139cb1...  \n",
       "product_category_name                        perfumaria, artes, esporte_lazer  \n",
       "product_name_lenght                                          40.0, 44.0, 46.0  \n",
       "product_description_lenght                                287.0, 276.0, 250.0  \n",
       "product_photos_qty                                              1.0, 4.0, 2.0  \n",
       "product_weight_g                                         225.0, 1000.0, 154.0  \n",
       "product_length_cm                                            16.0, 30.0, 18.0  \n",
       "product_height_cm                                             10.0, 18.0, 9.0  \n",
       "product_width_cm                                             14.0, 20.0, 15.0  "
      ]
     },
     "metadata": {},
     "output_type": "display_data"
    },
    {
     "name": "stdout",
     "output_type": "stream",
     "text": [
      "\n",
      "SELLERS\n"
     ]
    },
    {
     "data": {
      "text/html": [
       "<div>\n",
       "<style scoped>\n",
       "    .dataframe tbody tr th:only-of-type {\n",
       "        vertical-align: middle;\n",
       "    }\n",
       "\n",
       "    .dataframe tbody tr th {\n",
       "        vertical-align: top;\n",
       "    }\n",
       "\n",
       "    .dataframe thead th {\n",
       "        text-align: right;\n",
       "    }\n",
       "</style>\n",
       "<table border=\"1\" class=\"dataframe\">\n",
       "  <thead>\n",
       "    <tr style=\"text-align: right;\">\n",
       "      <th></th>\n",
       "      <th>Tipo</th>\n",
       "      <th>Nulos (%)</th>\n",
       "      <th>Únicos</th>\n",
       "      <th>Exemplos</th>\n",
       "    </tr>\n",
       "  </thead>\n",
       "  <tbody>\n",
       "    <tr>\n",
       "      <th>seller_id</th>\n",
       "      <td>object</td>\n",
       "      <td>0.0</td>\n",
       "      <td>3095</td>\n",
       "      <td>3442f8959a84dea7ee197c632cb2df15, d1b65fc7debc...</td>\n",
       "    </tr>\n",
       "    <tr>\n",
       "      <th>seller_zip_code_prefix</th>\n",
       "      <td>int64</td>\n",
       "      <td>0.0</td>\n",
       "      <td>2246</td>\n",
       "      <td>13023, 13844, 20031</td>\n",
       "    </tr>\n",
       "    <tr>\n",
       "      <th>seller_city</th>\n",
       "      <td>object</td>\n",
       "      <td>0.0</td>\n",
       "      <td>611</td>\n",
       "      <td>campinas, mogi guacu, rio de janeiro</td>\n",
       "    </tr>\n",
       "    <tr>\n",
       "      <th>seller_state</th>\n",
       "      <td>object</td>\n",
       "      <td>0.0</td>\n",
       "      <td>23</td>\n",
       "      <td>SP, RJ, PE</td>\n",
       "    </tr>\n",
       "  </tbody>\n",
       "</table>\n",
       "</div>"
      ],
      "text/plain": [
       "                          Tipo  Nulos (%)  Únicos  \\\n",
       "seller_id               object        0.0    3095   \n",
       "seller_zip_code_prefix   int64        0.0    2246   \n",
       "seller_city             object        0.0     611   \n",
       "seller_state            object        0.0      23   \n",
       "\n",
       "                                                                 Exemplos  \n",
       "seller_id               3442f8959a84dea7ee197c632cb2df15, d1b65fc7debc...  \n",
       "seller_zip_code_prefix                                13023, 13844, 20031  \n",
       "seller_city                          campinas, mogi guacu, rio de janeiro  \n",
       "seller_state                                                   SP, RJ, PE  "
      ]
     },
     "metadata": {},
     "output_type": "display_data"
    },
    {
     "name": "stdout",
     "output_type": "stream",
     "text": [
      "\n",
      "PRODUCT_CATEGORY_TRANSLATION\n"
     ]
    },
    {
     "data": {
      "text/html": [
       "<div>\n",
       "<style scoped>\n",
       "    .dataframe tbody tr th:only-of-type {\n",
       "        vertical-align: middle;\n",
       "    }\n",
       "\n",
       "    .dataframe tbody tr th {\n",
       "        vertical-align: top;\n",
       "    }\n",
       "\n",
       "    .dataframe thead th {\n",
       "        text-align: right;\n",
       "    }\n",
       "</style>\n",
       "<table border=\"1\" class=\"dataframe\">\n",
       "  <thead>\n",
       "    <tr style=\"text-align: right;\">\n",
       "      <th></th>\n",
       "      <th>Tipo</th>\n",
       "      <th>Nulos (%)</th>\n",
       "      <th>Únicos</th>\n",
       "      <th>Exemplos</th>\n",
       "    </tr>\n",
       "  </thead>\n",
       "  <tbody>\n",
       "    <tr>\n",
       "      <th>product_category_name</th>\n",
       "      <td>object</td>\n",
       "      <td>0.0</td>\n",
       "      <td>71</td>\n",
       "      <td>beleza_saude, informatica_acessorios, automotivo</td>\n",
       "    </tr>\n",
       "    <tr>\n",
       "      <th>product_category_name_english</th>\n",
       "      <td>object</td>\n",
       "      <td>0.0</td>\n",
       "      <td>71</td>\n",
       "      <td>health_beauty, computers_accessories, auto</td>\n",
       "    </tr>\n",
       "  </tbody>\n",
       "</table>\n",
       "</div>"
      ],
      "text/plain": [
       "                                 Tipo  Nulos (%)  Únicos  \\\n",
       "product_category_name          object        0.0      71   \n",
       "product_category_name_english  object        0.0      71   \n",
       "\n",
       "                                                                       Exemplos  \n",
       "product_category_name          beleza_saude, informatica_acessorios, automotivo  \n",
       "product_category_name_english        health_beauty, computers_accessories, auto  "
      ]
     },
     "metadata": {},
     "output_type": "display_data"
    }
   ],
   "source": [
    "for nome, df in zip(\n",
    "    ['customers', 'geolocation', 'order_items', 'order_payments', 'order_reviews', 'orders', 'products', 'sellers', 'product_category_translation'],\n",
    "    [customers, geolocation, order_items, order_payments, order_reviews, orders, products, sellers, product_category_translation]\n",
    "):\n",
    "    print(f\"\\n{nome.upper()}\")\n",
    "    display(resumo_df(df))\n"
   ]
  },
  {
   "cell_type": "code",
   "execution_count": 11,
   "id": "7b206e92-e608-4a6d-bdbc-0cc7cd2404bd",
   "metadata": {},
   "outputs": [
    {
     "name": "stdout",
     "output_type": "stream",
     "text": [
      "Valores nulos restantes após o tratamento:\n",
      "customers: 0 nulos\n",
      "geolocation: 0 nulos\n",
      "order_items: 0 nulos\n",
      "order_payments: 0 nulos\n",
      "order_reviews: 0 nulos\n",
      "orders: 4908 nulos\n",
      "products: 1838 nulos\n",
      "sellers: 0 nulos\n"
     ]
    }
   ],
   "source": [
    "# Tratamento de valores nulos \n",
    "\n",
    "# Customers: Sem nulos\n",
    "# Orders: Alguns nulos em order_approved_at, order_delivered_carrier_date, order_delivered_customer_date\n",
    "# Esses campos podem estar vazios por pedidos cancelados ou não entregues — vamos manter, mas sinalizar\n",
    "\n",
    "orders['order_approved_at'] = pd.to_datetime(orders['order_approved_at'])\n",
    "orders['order_delivered_carrier_date'] = pd.to_datetime(orders['order_delivered_carrier_date'])\n",
    "orders['order_delivered_customer_date'] = pd.to_datetime(orders['order_delivered_customer_date'])\n",
    "orders['order_estimated_delivery_date'] = pd.to_datetime(orders['order_estimated_delivery_date'])\n",
    "\n",
    "# Order Reviews: campos de comentários podem ser nulos — vamos preencher com texto padrão\n",
    "order_reviews['review_comment_title'] = order_reviews['review_comment_title'].fillna('Sem título')\n",
    "order_reviews['review_comment_message'] = order_reviews['review_comment_message'].fillna('Sem comentário')\n",
    "\n",
    "# Products: alguns produtos sem categoria — vamos preencher como 'sem_categoria'\n",
    "products['product_category_name'] = products['product_category_name'].fillna('sem_categoria')\n",
    "\n",
    "# Geolocation: muitos registros duplicados e com dados ausentes — vamos manter por enquanto e tratar depois\n",
    "geolocation.dropna(inplace=True)\n",
    "\n",
    "# Order Items, Order Payments, Sellers: sem nulos relevantes\n",
    "\n",
    "# Confirmação geral após tratamentos\n",
    "print(\"Valores nulos restantes após o tratamento:\")\n",
    "for nome, df in zip(\n",
    "    ['customers', 'geolocation', 'order_items', 'order_payments', 'order_reviews', 'orders', 'products', 'sellers'],\n",
    "    [customers, geolocation, order_items, order_payments, order_reviews, orders, products, sellers]\n",
    "):\n",
    "    print(f\"{nome}: {df.isnull().sum().sum()} nulos\")\n"
   ]
  },
  {
   "cell_type": "markdown",
   "id": "d54cea46-7cdc-4736-b898-26b971f7f836",
   "metadata": {},
   "source": [
    "🔍 Explicação dos principais tratamentos:\n",
    "Tabela\tAção tomada\tJustificativa\n",
    "orders\tMantidos os nulos em datas específicas\tAlguns pedidos podem não ter sido entregues\n",
    "order_reviews\tPreenchidos com texto padrão\tPermite análise textual sem perder linhas\n",
    "products\tCategoria preenchida como 'sem_categoria'\tEvita problemas em joins/agrupamentos\n",
    "geolocation\tRemoção de linhas com nulos\tLatitude/longitude incompletas não ajudam"
   ]
  },
  {
   "cell_type": "code",
   "execution_count": 13,
   "id": "d3bb1873-0c3c-4ece-a07e-18b7588a0685",
   "metadata": {},
   "outputs": [],
   "source": [
    "# Remover duplicatas (caso existam) em todas as tabelas principais\n",
    "customers.drop_duplicates(inplace=True)\n",
    "geolocation.drop_duplicates(inplace=True)\n",
    "order_items.drop_duplicates(inplace=True)\n",
    "order_payments.drop_duplicates(inplace=True)\n",
    "order_reviews.drop_duplicates(inplace=True)\n",
    "orders.drop_duplicates(inplace=True)\n",
    "products.drop_duplicates(inplace=True)\n",
    "sellers.drop_duplicates(inplace=True)\n",
    "\n",
    "# Padronização dos nomes de colunas para snake_case (sem acento, tudo minúsculo, com underscore)\n",
    "def padronizar_colunas(df):\n",
    "    df.columns = (\n",
    "        df.columns.str.strip()\n",
    "                  .str.lower()\n",
    "                  .str.replace(\" \", \"_\")\n",
    "                  .str.replace(\"-\", \"_\")\n",
    "    )\n",
    "    return df\n",
    "\n",
    "# Aplicar a função de padronização em todos os dataframes\n",
    "customers = padronizar_colunas(customers)\n",
    "geolocation = padronizar_colunas(geolocation)\n",
    "order_items = padronizar_colunas(order_items)\n",
    "order_payments = padronizar_colunas(order_payments)\n",
    "order_reviews = padronizar_colunas(order_reviews)\n",
    "orders = padronizar_colunas(orders)\n",
    "products = padronizar_colunas(products)\n",
    "sellers = padronizar_colunas(sellers)"
   ]
  },
  {
   "cell_type": "markdown",
   "id": "05867faa-5fb1-4cc4-83dc-5aeff837a9d5",
   "metadata": {},
   "source": [
    "🧠 Explicação\n",
    "Ação\tJustificativa\n",
    "drop_duplicates()\tEvita inconsistências em joins e análises\n",
    "Padronização snake_case\tFacilita leitura, digitação e integração com SQL e bibliotecas"
   ]
  },
  {
   "cell_type": "code",
   "execution_count": 15,
   "id": "5c2a7405-eff5-4588-b6bb-c9de9434c888",
   "metadata": {},
   "outputs": [
    {
     "name": "stdout",
     "output_type": "stream",
     "text": [
      "Pedidos com clientes vinculados: 99441\n",
      "Pedidos com itens vinculados: 112650\n",
      "Pedidos com pagamentos vinculados: 103886\n",
      "Itens com produtos vinculados: 112650\n",
      "Itens com vendedores vinculados: 112650\n"
     ]
    }
   ],
   "source": [
    "# Verificar relação entre orders e customers\n",
    "orders_customers = orders.merge(customers, on='customer_id', how='inner')\n",
    "print(f\"Pedidos com clientes vinculados: {len(orders_customers)}\")\n",
    "\n",
    "# Verificar relação entre orders e order_items\n",
    "orders_items = orders.merge(order_items, on='order_id', how='inner')\n",
    "print(f\"Pedidos com itens vinculados: {len(orders_items)}\")\n",
    "\n",
    "# Verificar relação entre orders e payments\n",
    "orders_payments = orders.merge(order_payments, on='order_id', how='inner')\n",
    "print(f\"Pedidos com pagamentos vinculados: {len(orders_payments)}\")\n",
    "\n",
    "# Verificar relação entre order_items e products\n",
    "items_products = order_items.merge(products, on='product_id', how='inner')\n",
    "print(f\"Itens com produtos vinculados: {len(items_products)}\")\n",
    "\n",
    "# Verificar relação entre order_items e sellers\n",
    "items_sellers = order_items.merge(sellers, on='seller_id', how='inner')\n",
    "print(f\"Itens com vendedores vinculados: {len(items_sellers)}\")\n"
   ]
  },
  {
   "cell_type": "markdown",
   "id": "5661a7da-9962-4511-9833-78499befb791",
   "metadata": {},
   "source": [
    "✅ Interpretação dos Resultados\n",
    "Verificação\tTotal de Registros\tInterpretação\n",
    "Pedidos com clientes vinculados\t99.441\tIgual ao total de registros da tabela orders. Todos os pedidos têm um cliente. ✅\n",
    "Pedidos com itens vinculados\t112.650\tCada pedido pode conter vários itens. Aqui temos a granularidade item a item (1:N). ✅\n",
    "Pedidos com pagamentos vinculados\t103.886\tUm pouco menor que o total de pedidos — alguns pedidos podem não ter registros de pagamento (problema real ou inconsistência). ⚠️\n",
    "Itens com produtos vinculados\t112.650\tTodos os itens têm produto associado. ✅\n",
    "Itens com vendedores vinculados\t112.650\tTodos os itens têm vendedor associado. ✅"
   ]
  },
  {
   "cell_type": "code",
   "execution_count": 17,
   "id": "6722fef9-f576-48ce-a9fe-4ed70b63cb86",
   "metadata": {
    "scrolled": true
   },
   "outputs": [
    {
     "name": "stdout",
     "output_type": "stream",
     "text": [
      "1     96479\n",
      "2      2382\n",
      "3       301\n",
      "4       108\n",
      "5        52\n",
      "6        36\n",
      "7        28\n",
      "8        11\n",
      "9         9\n",
      "10        5\n",
      "11        8\n",
      "12        8\n",
      "13        3\n",
      "14        2\n",
      "15        2\n",
      "19        2\n",
      "21        1\n",
      "22        1\n",
      "26        1\n",
      "29        1\n",
      "Name: count, dtype: int64\n"
     ]
    }
   ],
   "source": [
    "# Quantidade de pagamentos por pedido\n",
    "pagamentos_por_pedido = order_payments.groupby('order_id').size().value_counts().sort_index()\n",
    "print(pagamentos_por_pedido)\n"
   ]
  },
  {
   "cell_type": "markdown",
   "id": "8da8310e-5307-401f-8380-b3c5b061f11e",
   "metadata": {},
   "source": [
    "📊 Distribuição de pagamentos por pedido\n",
    "Nº de pagamentos por pedido\tNº de pedidos\n",
    "1 parcela\t96.479\n",
    "2 parcelas\t2.382\n",
    "3 parcelas\t301\n",
    "4 parcelas\t108\n",
    "... até 29 parcelas\tcasos raros"
   ]
  },
  {
   "cell_type": "markdown",
   "id": "334c5aaf-8a8b-4e4a-9143-ea19d918edf1",
   "metadata": {
    "jp-MarkdownHeadingCollapsed": true
   },
   "source": [
    "## 🔗 Modelo Relacional do Dataset Olist"
   ]
  },
  {
   "cell_type": "markdown",
   "id": "e431a583-7b86-4ecf-9376-06aedbd21147",
   "metadata": {},
   "source": [
    "\n",
    "O dataset da Olist possui uma estrutura relacional centrada na tabela de pedidos (orders). Abaixo, os relacionamentos entre as principais tabelas:\n",
    "\n",
    "orders\n",
    "\n",
    "↔️ customers via customer_id\n",
    "\n",
    "↔️ order_items via order_id\n",
    "\n",
    "↔️ order_payments via order_id\n",
    "\n",
    "↔️ order_reviews via order_id\n",
    "\n",
    "order_items\n",
    "\n",
    "↔️ products via product_id\n",
    "\n",
    "↔️ sellers via seller_id\n",
    "\n",
    "products\n",
    "\n",
    "↔️ product_category_name_translation via product_category_name"
   ]
  },
  {
   "cell_type": "markdown",
   "id": "524c3c9b-c08a-4f83-bdbf-a95f4acbc7fb",
   "metadata": {
    "jp-MarkdownHeadingCollapsed": true
   },
   "source": [
    "## Modelo Relacional Visual (com graphviz)"
   ]
  },
  {
   "cell_type": "code",
   "execution_count": 22,
   "id": "b4663e9d-58da-4e3d-9b44-25aaf511d650",
   "metadata": {},
   "outputs": [
    {
     "data": {
      "image/svg+xml": [
       "<?xml version=\"1.0\" encoding=\"UTF-8\" standalone=\"no\"?>\n",
       "<!DOCTYPE svg PUBLIC \"-//W3C//DTD SVG 1.1//EN\"\n",
       " \"http://www.w3.org/Graphics/SVG/1.1/DTD/svg11.dtd\">\n",
       "<!-- Generated by graphviz version 12.2.1 (20241206.2353)\n",
       " -->\n",
       "<!-- Pages: 1 -->\n",
       "<svg width=\"2158pt\" height=\"257pt\"\n",
       " viewBox=\"0.00 0.00 2158.07 256.86\" xmlns=\"http://www.w3.org/2000/svg\" xmlns:xlink=\"http://www.w3.org/1999/xlink\">\n",
       "<g id=\"graph0\" class=\"graph\" transform=\"scale(1 1) rotate(0) translate(4 252.86)\">\n",
       "<polygon fill=\"white\" stroke=\"none\" points=\"-4,4 -4,-252.86 2154.07,-252.86 2154.07,4 -4,4\"/>\n",
       "<!-- customers -->\n",
       "<g id=\"node1\" class=\"node\">\n",
       "<title>customers</title>\n",
       "<ellipse fill=\"lightblue\" stroke=\"black\" cx=\"172.53\" cy=\"-101.93\" rx=\"172.53\" ry=\"27.93\"/>\n",
       "<text text-anchor=\"middle\" x=\"172.53\" y=\"-104.38\" font-family=\"Helvetica,sans-Serif\" font-size=\"14.00\">customers</text>\n",
       "<text text-anchor=\"middle\" x=\"172.53\" y=\"-88.63\" font-family=\"Helvetica,sans-Serif\" font-size=\"14.00\">(customer_id, customer_unique_id,...)</text>\n",
       "</g>\n",
       "<!-- orders -->\n",
       "<g id=\"node2\" class=\"node\">\n",
       "<title>orders</title>\n",
       "<ellipse fill=\"lightgreen\" stroke=\"black\" cx=\"628\" cy=\"-101.93\" rx=\"179.43\" ry=\"27.93\"/>\n",
       "<text text-anchor=\"middle\" x=\"628\" y=\"-104.38\" font-family=\"Helvetica,sans-Serif\" font-size=\"14.00\">orders</text>\n",
       "<text text-anchor=\"middle\" x=\"628\" y=\"-88.63\" font-family=\"Helvetica,sans-Serif\" font-size=\"14.00\">(order_id, customer_id, order_status,...)</text>\n",
       "</g>\n",
       "<!-- customers&#45;&gt;orders -->\n",
       "<g id=\"edge1\" class=\"edge\">\n",
       "<title>customers&#45;&gt;orders</title>\n",
       "<path fill=\"none\" stroke=\"black\" d=\"M345.29,-101.93C375.32,-101.93 406.72,-101.93 437.2,-101.93\"/>\n",
       "<polygon fill=\"black\" stroke=\"black\" points=\"436.87,-105.43 446.87,-101.93 436.87,-98.43 436.87,-105.43\"/>\n",
       "<text text-anchor=\"middle\" x=\"396.82\" y=\"-105.13\" font-family=\"Times New Roman,serif\" font-size=\"14.00\">customer_id</text>\n",
       "</g>\n",
       "<!-- order_items -->\n",
       "<g id=\"node3\" class=\"node\">\n",
       "<title>order_items</title>\n",
       "<ellipse fill=\"lightgray\" stroke=\"black\" cx=\"1043.15\" cy=\"-175.93\" rx=\"153.97\" ry=\"27.93\"/>\n",
       "<text text-anchor=\"middle\" x=\"1043.15\" y=\"-178.38\" font-family=\"Helvetica,sans-Serif\" font-size=\"14.00\">order_items</text>\n",
       "<text text-anchor=\"middle\" x=\"1043.15\" y=\"-162.63\" font-family=\"Helvetica,sans-Serif\" font-size=\"14.00\">(order_id, product_id, seller_id,...)</text>\n",
       "</g>\n",
       "<!-- orders&#45;&gt;order_items -->\n",
       "<g id=\"edge2\" class=\"edge\">\n",
       "<title>orders&#45;&gt;order_items</title>\n",
       "<path fill=\"none\" stroke=\"black\" d=\"M747.39,-123.14C801.82,-132.89 866.31,-144.44 921.06,-154.24\"/>\n",
       "<polygon fill=\"black\" stroke=\"black\" points=\"920.29,-157.66 930.75,-155.98 921.52,-150.77 920.29,-157.66\"/>\n",
       "<text text-anchor=\"middle\" x=\"848.3\" y=\"-146.56\" font-family=\"Times New Roman,serif\" font-size=\"14.00\">order_id</text>\n",
       "</g>\n",
       "<!-- order_payments -->\n",
       "<g id=\"node4\" class=\"node\">\n",
       "<title>order_payments</title>\n",
       "<ellipse fill=\"lightgray\" stroke=\"black\" cx=\"1043.15\" cy=\"-101.93\" rx=\"129.05\" ry=\"27.93\"/>\n",
       "<text text-anchor=\"middle\" x=\"1043.15\" y=\"-104.38\" font-family=\"Helvetica,sans-Serif\" font-size=\"14.00\">order_payments</text>\n",
       "<text text-anchor=\"middle\" x=\"1043.15\" y=\"-88.63\" font-family=\"Helvetica,sans-Serif\" font-size=\"14.00\">(order_id, payment_type,...)</text>\n",
       "</g>\n",
       "<!-- orders&#45;&gt;order_payments -->\n",
       "<g id=\"edge3\" class=\"edge\">\n",
       "<title>orders&#45;&gt;order_payments</title>\n",
       "<path fill=\"none\" stroke=\"black\" d=\"M807.81,-101.93C839.56,-101.93 872.21,-101.93 902.68,-101.93\"/>\n",
       "<polygon fill=\"black\" stroke=\"black\" points=\"902.28,-105.43 912.28,-101.93 902.28,-98.43 902.28,-105.43\"/>\n",
       "<text text-anchor=\"middle\" x=\"848.3\" y=\"-105.13\" font-family=\"Times New Roman,serif\" font-size=\"14.00\">order_id</text>\n",
       "</g>\n",
       "<!-- order_reviews -->\n",
       "<g id=\"node5\" class=\"node\">\n",
       "<title>order_reviews</title>\n",
       "<ellipse fill=\"lightgray\" stroke=\"black\" cx=\"1043.15\" cy=\"-27.93\" rx=\"124.8\" ry=\"27.93\"/>\n",
       "<text text-anchor=\"middle\" x=\"1043.15\" y=\"-30.38\" font-family=\"Helvetica,sans-Serif\" font-size=\"14.00\">order_reviews</text>\n",
       "<text text-anchor=\"middle\" x=\"1043.15\" y=\"-14.63\" font-family=\"Helvetica,sans-Serif\" font-size=\"14.00\">(order_id, review_score,...)</text>\n",
       "</g>\n",
       "<!-- orders&#45;&gt;order_reviews -->\n",
       "<g id=\"edge4\" class=\"edge\">\n",
       "<title>orders&#45;&gt;order_reviews</title>\n",
       "<path fill=\"none\" stroke=\"black\" d=\"M747.39,-80.73C805.96,-70.23 876.17,-57.66 933.37,-47.41\"/>\n",
       "<polygon fill=\"black\" stroke=\"black\" points=\"933.92,-50.87 943.14,-45.66 932.68,-43.98 933.92,-50.87\"/>\n",
       "<text text-anchor=\"middle\" x=\"848.3\" y=\"-68.13\" font-family=\"Times New Roman,serif\" font-size=\"14.00\">order_id</text>\n",
       "</g>\n",
       "<!-- products -->\n",
       "<g id=\"node6\" class=\"node\">\n",
       "<title>products</title>\n",
       "<ellipse fill=\"wheat\" stroke=\"black\" cx=\"1473.17\" cy=\"-220.93\" rx=\"181.55\" ry=\"27.93\"/>\n",
       "<text text-anchor=\"middle\" x=\"1473.17\" y=\"-223.38\" font-family=\"Helvetica,sans-Serif\" font-size=\"14.00\">products</text>\n",
       "<text text-anchor=\"middle\" x=\"1473.17\" y=\"-207.63\" font-family=\"Helvetica,sans-Serif\" font-size=\"14.00\">(product_id, product_category_name,...)</text>\n",
       "</g>\n",
       "<!-- order_items&#45;&gt;products -->\n",
       "<g id=\"edge5\" class=\"edge\">\n",
       "<title>order_items&#45;&gt;products</title>\n",
       "<path fill=\"none\" stroke=\"black\" d=\"M1177.52,-189.95C1219.73,-194.39 1266.83,-199.34 1310.78,-203.96\"/>\n",
       "<polygon fill=\"black\" stroke=\"black\" points=\"1310.37,-207.44 1320.68,-205 1311.1,-200.48 1310.37,-207.44\"/>\n",
       "<text text-anchor=\"middle\" x=\"1244.37\" y=\"-202.98\" font-family=\"Times New Roman,serif\" font-size=\"14.00\">product_id</text>\n",
       "</g>\n",
       "<!-- sellers -->\n",
       "<g id=\"node7\" class=\"node\">\n",
       "<title>sellers</title>\n",
       "<ellipse fill=\"lightgray\" stroke=\"black\" cx=\"1473.17\" cy=\"-146.93\" rx=\"111.02\" ry=\"27.93\"/>\n",
       "<text text-anchor=\"middle\" x=\"1473.17\" y=\"-149.38\" font-family=\"Helvetica,sans-Serif\" font-size=\"14.00\">sellers</text>\n",
       "<text text-anchor=\"middle\" x=\"1473.17\" y=\"-133.63\" font-family=\"Helvetica,sans-Serif\" font-size=\"14.00\">(seller_id, seller_city,...)</text>\n",
       "</g>\n",
       "<!-- order_items&#45;&gt;sellers -->\n",
       "<g id=\"edge6\" class=\"edge\">\n",
       "<title>order_items&#45;&gt;sellers</title>\n",
       "<path fill=\"none\" stroke=\"black\" d=\"M1188.16,-166.17C1242.11,-162.52 1302.72,-158.41 1354.05,-154.93\"/>\n",
       "<polygon fill=\"black\" stroke=\"black\" points=\"1354.28,-158.43 1364.02,-154.26 1353.81,-151.44 1354.28,-158.43\"/>\n",
       "<text text-anchor=\"middle\" x=\"1244.37\" y=\"-167.23\" font-family=\"Times New Roman,serif\" font-size=\"14.00\">seller_id</text>\n",
       "</g>\n",
       "<!-- product_category_name_translation -->\n",
       "<g id=\"node8\" class=\"node\">\n",
       "<title>product_category_name_translation</title>\n",
       "<ellipse fill=\"lightgray\" stroke=\"black\" cx=\"1986.02\" cy=\"-220.93\" rx=\"164.05\" ry=\"27.93\"/>\n",
       "<text text-anchor=\"middle\" x=\"1986.02\" y=\"-223.38\" font-family=\"Helvetica,sans-Serif\" font-size=\"14.00\">product_category_name_translation</text>\n",
       "<text text-anchor=\"middle\" x=\"1986.02\" y=\"-207.63\" font-family=\"Helvetica,sans-Serif\" font-size=\"14.00\">(category, translation)</text>\n",
       "</g>\n",
       "<!-- products&#45;&gt;product_category_name_translation -->\n",
       "<g id=\"edge7\" class=\"edge\">\n",
       "<title>products&#45;&gt;product_category_name_translation</title>\n",
       "<path fill=\"none\" stroke=\"black\" d=\"M1654.99,-220.93C1705.43,-220.93 1760.11,-220.93 1810.19,-220.93\"/>\n",
       "<polygon fill=\"black\" stroke=\"black\" points=\"1809.96,-224.43 1819.96,-220.93 1809.96,-217.43 1809.96,-224.43\"/>\n",
       "<text text-anchor=\"middle\" x=\"1738.34\" y=\"-224.13\" font-family=\"Times New Roman,serif\" font-size=\"14.00\">product_category_name</text>\n",
       "</g>\n",
       "</g>\n",
       "</svg>\n"
      ],
      "text/plain": [
       "<graphviz.graphs.Digraph at 0x292f1bfdcd0>"
      ]
     },
     "execution_count": 22,
     "metadata": {},
     "output_type": "execute_result"
    }
   ],
   "source": [
    "dot = Digraph(format='png')\n",
    "dot.attr(rankdir='LR', bgcolor='white')  # Layout e fundo branco\n",
    "dot.attr('node', shape='ellipse', style='filled', fillcolor='lightgray', fontname='Helvetica')\n",
    "\n",
    "# Tabelas\n",
    "dot.node('customers', 'customers\\n(customer_id, customer_unique_id,...)', fillcolor='lightblue')\n",
    "dot.node('orders', 'orders\\n(order_id, customer_id, order_status,...)', fillcolor='lightgreen')\n",
    "dot.node('order_items', 'order_items\\n(order_id, product_id, seller_id,...)')\n",
    "dot.node('order_payments', 'order_payments\\n(order_id, payment_type,...)')\n",
    "dot.node('order_reviews', 'order_reviews\\n(order_id, review_score,...)')\n",
    "dot.node('products', 'products\\n(product_id, product_category_name,...)', fillcolor='wheat')\n",
    "dot.node('sellers', 'sellers\\n(seller_id, seller_city,...)')\n",
    "dot.node('product_category_name_translation', 'product_category_name_translation\\n(category, translation)')\n",
    "\n",
    "# Relacionamentos\n",
    "dot.edge('customers', 'orders', label='customer_id')\n",
    "dot.edge('orders', 'order_items', label='order_id')\n",
    "dot.edge('orders', 'order_payments', label='order_id')\n",
    "dot.edge('orders', 'order_reviews', label='order_id')\n",
    "dot.edge('order_items', 'products', label='product_id')\n",
    "dot.edge('order_items', 'sellers', label='seller_id')\n",
    "dot.edge('products', 'product_category_name_translation', label='product_category_name')\n",
    "\n",
    "# Exibir\n",
    "dot.render('modelo_melhorado', cleanup=True)\n",
    "dot\n"
   ]
  },
  {
   "cell_type": "markdown",
   "id": "3167a6a2-9b03-43c2-9e7a-6d5eca601e62",
   "metadata": {
    "jp-MarkdownHeadingCollapsed": true
   },
   "source": [
    "## Modelo Relacional e Conexão com SQL (Teste)"
   ]
  },
  {
   "cell_type": "code",
   "execution_count": 29,
   "id": "c6277c7d-48d2-4c55-bfba-c59d8ef06ea0",
   "metadata": {},
   "outputs": [
    {
     "data": {
      "text/plain": [
       "71"
      ]
     },
     "execution_count": 29,
     "metadata": {},
     "output_type": "execute_result"
    }
   ],
   "source": [
    "# Criando banco SQLite em memória\n",
    "\n",
    "conn = sqlite3.connect(':memory:')\n",
    "customers.to_sql('customers', conn, index=False, if_exists='replace')\n",
    "orders.to_sql('orders', conn, index=False, if_exists='replace')\n",
    "order_items.to_sql('order_items', conn, index=False, if_exists='replace')\n",
    "order_payments.to_sql('order_payments', conn, index=False, if_exists='replace')\n",
    "order_reviews.to_sql('order_reviews', conn, index=False, if_exists='replace')\n",
    "products.to_sql('products', conn, index=False, if_exists='replace')\n",
    "sellers.to_sql('sellers', conn, index=False, if_exists='replace')\n",
    "geolocation.to_sql('geolocation', conn, index=False, if_exists='replace')\n",
    "product_category_translation.to_sql('product_translation', conn, index=False, if_exists='replace')"
   ]
  },
  {
   "cell_type": "code",
   "execution_count": 31,
   "id": "c13576da-92cc-4c07-a16a-0c3c1477eeed",
   "metadata": {
    "scrolled": true
   },
   "outputs": [
    {
     "name": "stdout",
     "output_type": "stream",
     "text": [
      "customers\n",
      "orders\n",
      "order_items\n",
      "order_payments\n",
      "order_reviews\n",
      "products\n",
      "sellers\n",
      "geolocation\n",
      "product_translation\n"
     ]
    }
   ],
   "source": [
    "# Validando se as tabelas foram criadas\n",
    "cursor = conn.cursor()\n",
    "cursor.execute(\"SELECT name FROM sqlite_master WHERE type='table';\")\n",
    "for tabela in cursor.fetchall():\n",
    "    print(tabela[0])"
   ]
  },
  {
   "cell_type": "code",
   "execution_count": 35,
   "id": "c8980d2f-6d92-4b82-bbad-1ef9692da021",
   "metadata": {},
   "outputs": [
    {
     "data": {
      "text/html": [
       "<div>\n",
       "<style scoped>\n",
       "    .dataframe tbody tr th:only-of-type {\n",
       "        vertical-align: middle;\n",
       "    }\n",
       "\n",
       "    .dataframe tbody tr th {\n",
       "        vertical-align: top;\n",
       "    }\n",
       "\n",
       "    .dataframe thead th {\n",
       "        text-align: right;\n",
       "    }\n",
       "</style>\n",
       "<table border=\"1\" class=\"dataframe\">\n",
       "  <thead>\n",
       "    <tr style=\"text-align: right;\">\n",
       "      <th></th>\n",
       "      <th>customer_state</th>\n",
       "      <th>total_pedidos</th>\n",
       "    </tr>\n",
       "  </thead>\n",
       "  <tbody>\n",
       "    <tr>\n",
       "      <th>0</th>\n",
       "      <td>SP</td>\n",
       "      <td>41746</td>\n",
       "    </tr>\n",
       "    <tr>\n",
       "      <th>1</th>\n",
       "      <td>RJ</td>\n",
       "      <td>12852</td>\n",
       "    </tr>\n",
       "    <tr>\n",
       "      <th>2</th>\n",
       "      <td>MG</td>\n",
       "      <td>11635</td>\n",
       "    </tr>\n",
       "    <tr>\n",
       "      <th>3</th>\n",
       "      <td>RS</td>\n",
       "      <td>5466</td>\n",
       "    </tr>\n",
       "    <tr>\n",
       "      <th>4</th>\n",
       "      <td>PR</td>\n",
       "      <td>5045</td>\n",
       "    </tr>\n",
       "    <tr>\n",
       "      <th>5</th>\n",
       "      <td>SC</td>\n",
       "      <td>3637</td>\n",
       "    </tr>\n",
       "    <tr>\n",
       "      <th>6</th>\n",
       "      <td>BA</td>\n",
       "      <td>3380</td>\n",
       "    </tr>\n",
       "    <tr>\n",
       "      <th>7</th>\n",
       "      <td>DF</td>\n",
       "      <td>2140</td>\n",
       "    </tr>\n",
       "    <tr>\n",
       "      <th>8</th>\n",
       "      <td>ES</td>\n",
       "      <td>2033</td>\n",
       "    </tr>\n",
       "    <tr>\n",
       "      <th>9</th>\n",
       "      <td>GO</td>\n",
       "      <td>2020</td>\n",
       "    </tr>\n",
       "    <tr>\n",
       "      <th>10</th>\n",
       "      <td>PE</td>\n",
       "      <td>1652</td>\n",
       "    </tr>\n",
       "    <tr>\n",
       "      <th>11</th>\n",
       "      <td>CE</td>\n",
       "      <td>1336</td>\n",
       "    </tr>\n",
       "    <tr>\n",
       "      <th>12</th>\n",
       "      <td>PA</td>\n",
       "      <td>975</td>\n",
       "    </tr>\n",
       "    <tr>\n",
       "      <th>13</th>\n",
       "      <td>MT</td>\n",
       "      <td>907</td>\n",
       "    </tr>\n",
       "    <tr>\n",
       "      <th>14</th>\n",
       "      <td>MA</td>\n",
       "      <td>747</td>\n",
       "    </tr>\n",
       "    <tr>\n",
       "      <th>15</th>\n",
       "      <td>MS</td>\n",
       "      <td>715</td>\n",
       "    </tr>\n",
       "    <tr>\n",
       "      <th>16</th>\n",
       "      <td>PB</td>\n",
       "      <td>536</td>\n",
       "    </tr>\n",
       "    <tr>\n",
       "      <th>17</th>\n",
       "      <td>PI</td>\n",
       "      <td>495</td>\n",
       "    </tr>\n",
       "    <tr>\n",
       "      <th>18</th>\n",
       "      <td>RN</td>\n",
       "      <td>485</td>\n",
       "    </tr>\n",
       "    <tr>\n",
       "      <th>19</th>\n",
       "      <td>AL</td>\n",
       "      <td>413</td>\n",
       "    </tr>\n",
       "    <tr>\n",
       "      <th>20</th>\n",
       "      <td>SE</td>\n",
       "      <td>350</td>\n",
       "    </tr>\n",
       "    <tr>\n",
       "      <th>21</th>\n",
       "      <td>TO</td>\n",
       "      <td>280</td>\n",
       "    </tr>\n",
       "    <tr>\n",
       "      <th>22</th>\n",
       "      <td>RO</td>\n",
       "      <td>253</td>\n",
       "    </tr>\n",
       "    <tr>\n",
       "      <th>23</th>\n",
       "      <td>AM</td>\n",
       "      <td>148</td>\n",
       "    </tr>\n",
       "    <tr>\n",
       "      <th>24</th>\n",
       "      <td>AC</td>\n",
       "      <td>81</td>\n",
       "    </tr>\n",
       "    <tr>\n",
       "      <th>25</th>\n",
       "      <td>AP</td>\n",
       "      <td>68</td>\n",
       "    </tr>\n",
       "    <tr>\n",
       "      <th>26</th>\n",
       "      <td>RR</td>\n",
       "      <td>46</td>\n",
       "    </tr>\n",
       "  </tbody>\n",
       "</table>\n",
       "</div>"
      ],
      "text/plain": [
       "   customer_state  total_pedidos\n",
       "0              SP          41746\n",
       "1              RJ          12852\n",
       "2              MG          11635\n",
       "3              RS           5466\n",
       "4              PR           5045\n",
       "5              SC           3637\n",
       "6              BA           3380\n",
       "7              DF           2140\n",
       "8              ES           2033\n",
       "9              GO           2020\n",
       "10             PE           1652\n",
       "11             CE           1336\n",
       "12             PA            975\n",
       "13             MT            907\n",
       "14             MA            747\n",
       "15             MS            715\n",
       "16             PB            536\n",
       "17             PI            495\n",
       "18             RN            485\n",
       "19             AL            413\n",
       "20             SE            350\n",
       "21             TO            280\n",
       "22             RO            253\n",
       "23             AM            148\n",
       "24             AC             81\n",
       "25             AP             68\n",
       "26             RR             46"
      ]
     },
     "execution_count": 35,
     "metadata": {},
     "output_type": "execute_result"
    }
   ],
   "source": [
    "pd.read_sql(\"\"\"\n",
    "    SELECT\n",
    "        customer_state,\n",
    "        COUNT(*) AS total_pedidos\n",
    "    FROM customers c\n",
    "    JOIN orders o ON c.customer_id = o.customer_id\n",
    "    GROUP BY customer_state\n",
    "    ORDER BY total_pedidos DESC\n",
    "\"\"\", conn)\n"
   ]
  },
  {
   "cell_type": "markdown",
   "id": "dd1e80c7-969b-448a-b646-1419fb4c8b3a",
   "metadata": {},
   "source": [
    "# Análise exploratória de dados"
   ]
  },
  {
   "cell_type": "markdown",
   "id": "407998ae-2746-41de-8612-24e6c6271626",
   "metadata": {
    "jp-MarkdownHeadingCollapsed": true
   },
   "source": [
    "## a) Qual o volume de pedidos por mês? Existe sazonalidade nas vendas?"
   ]
  },
  {
   "cell_type": "markdown",
   "id": "09172032-f169-4712-9060-5d33f0463f60",
   "metadata": {},
   "source": [
    "Passo 1: Agrupar pedidos por mês (order_purchase_timestamp)\n",
    "Passo 2: Visualizar com gráfico de linha"
   ]
  },
  {
   "cell_type": "code",
   "execution_count": 87,
   "id": "3d9faf54-ad27-46d7-bbe6-378e58dd4ba1",
   "metadata": {},
   "outputs": [
    {
     "name": "stdout",
     "output_type": "stream",
     "text": [
      "    ano_mes  quantidade_pedidos\n",
      "0   2016-09                   4\n",
      "1   2016-10                 324\n",
      "2   2016-12                   1\n",
      "3   2017-01                 800\n",
      "4   2017-02                1780\n",
      "5   2017-03                2682\n",
      "6   2017-04                2404\n",
      "7   2017-05                3700\n",
      "8   2017-06                3245\n",
      "9   2017-07                4026\n",
      "10  2017-08                4331\n",
      "11  2017-09                4285\n",
      "12  2017-10                4631\n",
      "13  2017-11                7544\n",
      "14  2017-12                5673\n",
      "15  2018-01                7269\n",
      "16  2018-02                6728\n",
      "17  2018-03                7211\n",
      "18  2018-04                6939\n",
      "19  2018-05                6873\n",
      "20  2018-06                6167\n",
      "21  2018-07                6292\n",
      "22  2018-08                6512\n",
      "23  2018-09                  16\n",
      "24  2018-10                   4\n"
     ]
    },
    {
     "data": {
      "image/png": "[encoded data removed]",
      "text/plain": [
       "<Figure size 1400x600 with 1 Axes>"
      ]
     },
     "metadata": {},
     "output_type": "display_data"
    }
   ],
   "source": [
    "# Convertendo para datetime (se ainda não estiver)\n",
    "orders['order_purchase_timestamp'] = pd.to_datetime(orders['order_purchase_timestamp'])\n",
    "\n",
    "# Extraindo ano e mês e agrupando por ano_mes\n",
    "orders['ano_mes'] = orders['order_purchase_timestamp'].dt.to_period('M')\n",
    "pedidos_por_mes = orders.groupby('ano_mes')['order_id'].nunique().reset_index()\n",
    "\n",
    "# Renomeando colunas\n",
    "pedidos_por_mes.columns = ['ano_mes', 'quantidade_pedidos']\n",
    "\n",
    "# Exibindo\n",
    "print(pedidos_por_mes)\n",
    "\n",
    "# Plotando para identificar sazonalidade\n",
    "fig, ax = plt.subplots(figsize=(14, 6))\n",
    "\n",
    "ax.plot(\n",
    "        pedidos_por_mes['ano_mes'].astype(str),\n",
    "        pedidos_por_mes['quantidade_pedidos'],\n",
    "        marker='o', color='steelblue')\n",
    "\n",
    "ax.set_title('Volume de pedidos por mês', fontsize=16)\n",
    "ax.set_xlabel('Ano-Mês')\n",
    "ax.set_ylabel('Quantidade de pedidos')\n",
    "\n",
    "ax.tick_params(axis='x', rotation=45)\n",
    "ax.grid(True)\n",
    "\n",
    "# Fundo branco\n",
    "#fig.patch.set_facecolor('white')\n",
    "#ax.set_facecolor('white')\n",
    "\n",
    "# Remover bordas superior e direita\n",
    "#ax.spines['top'].set_visible(False)\n",
    "#ax.spines['right'].set_visible(False)\n",
    "\n",
    "# Adicionando rótulos afastados dos pontos\n",
    "for i, row in pedidos_por_mes.iterrows():\n",
    "    ax.text(\n",
    "        x=i,  # posição no eixo x como índice para alinhar com ticks\n",
    "        y=row['quantidade_pedidos'] + 150,  # afastamento do ponto\n",
    "        s=str(row['quantidade_pedidos']),\n",
    "        ha='center',\n",
    "        fontsize=11,\n",
    "        color='black'\n",
    "    )\n",
    "\n",
    "plt.tight_layout()\n",
    "plt.show()\n"
   ]
  },
  {
   "cell_type": "markdown",
   "id": "3b1ac296-d378-4619-8010-fed1296a3aa4",
   "metadata": {},
   "source": [
    "Conferência de valores com SQL."
   ]
  },
  {
   "cell_type": "code",
   "execution_count": 99,
   "id": "cc93033c-9403-432d-8774-dc07e3892375",
   "metadata": {},
   "outputs": [
    {
     "data": {
      "text/html": [
       "<div>\n",
       "<style scoped>\n",
       "    .dataframe tbody tr th:only-of-type {\n",
       "        vertical-align: middle;\n",
       "    }\n",
       "\n",
       "    .dataframe tbody tr th {\n",
       "        vertical-align: top;\n",
       "    }\n",
       "\n",
       "    .dataframe thead th {\n",
       "        text-align: right;\n",
       "    }\n",
       "</style>\n",
       "<table border=\"1\" class=\"dataframe\">\n",
       "  <thead>\n",
       "    <tr style=\"text-align: right;\">\n",
       "      <th></th>\n",
       "      <th>ano_mes</th>\n",
       "      <th>quantidade_pedidos</th>\n",
       "    </tr>\n",
       "  </thead>\n",
       "  <tbody>\n",
       "    <tr>\n",
       "      <th>0</th>\n",
       "      <td>2016-09</td>\n",
       "      <td>4</td>\n",
       "    </tr>\n",
       "    <tr>\n",
       "      <th>1</th>\n",
       "      <td>2016-10</td>\n",
       "      <td>324</td>\n",
       "    </tr>\n",
       "    <tr>\n",
       "      <th>2</th>\n",
       "      <td>2016-12</td>\n",
       "      <td>1</td>\n",
       "    </tr>\n",
       "    <tr>\n",
       "      <th>3</th>\n",
       "      <td>2017-01</td>\n",
       "      <td>800</td>\n",
       "    </tr>\n",
       "    <tr>\n",
       "      <th>4</th>\n",
       "      <td>2017-02</td>\n",
       "      <td>1780</td>\n",
       "    </tr>\n",
       "  </tbody>\n",
       "</table>\n",
       "</div>"
      ],
      "text/plain": [
       "   ano_mes  quantidade_pedidos\n",
       "0  2016-09                   4\n",
       "1  2016-10                 324\n",
       "2  2016-12                   1\n",
       "3  2017-01                 800\n",
       "4  2017-02                1780"
      ]
     },
     "execution_count": 99,
     "metadata": {},
     "output_type": "execute_result"
    }
   ],
   "source": [
    "query = \"\"\"\n",
    "SELECT \n",
    "    strftime('%Y-%m', order_purchase_timestamp) AS ano_mes,\n",
    "    COUNT(DISTINCT order_id) AS quantidade_pedidos\n",
    "FROM \n",
    "    orders\n",
    "GROUP BY \n",
    "    ano_mes\n",
    "ORDER BY \n",
    "    ano_mes;\n",
    "\"\"\"\n",
    "\n",
    "pedidos_por_mes_sql = pd.read_sql_query(query, conn)\n",
    "#print(pedidos_por_mes_sql)\n",
    "pedidos_por_mes_sql.head()"
   ]
  },
  {
   "cell_type": "markdown",
   "id": "a9790ad1-7b42-41c5-876c-03cd962fc213",
   "metadata": {
    "jp-MarkdownHeadingCollapsed": true
   },
   "source": [
    "Conclusão: Existe sazonalidade nas vendas?\n",
    "\n",
    "Ao analisar o volume de pedidos por mês ao longo do período de setembro de 2016 a outubro de 2018, observamos alguns pontos importantes:\n",
    "\n",
    "- O número de pedidos cresce de forma consistente a partir do início de 2017, atingindo picos entre os meses de **outubro e dezembro**, com destaque para novembro e dezembro de 2017 e janeiro a março de 2018.\n",
    "- Esse aumento no final do ano pode indicar **sazonalidade relacionada a datas comemorativas e períodos promocionais**, como Black Friday e Natal.\n",
    "- No entanto, notamos também meses com volumes muito baixos ou quase inexistentes, como setembro e dezembro de 2016, e setembro e outubro de 2018. Isso pode ser efeito de dados incompletos nesses períodos ou variações específicas.\n",
    "- De modo geral, a tendência sugere que existe sim uma sazonalidade nas vendas, com maiores volumes concentrados no final do ano e início do seguinte.\n",
    "\n",
    "Essa análise permite ao negócio planejar melhor estoques e campanhas promocionais, aproveitando os períodos de maiordemanda.\n"
   ]
  },
  {
   "cell_type": "markdown",
   "id": "94741a66-ca5f-4bb2-bf83-4342e92c6747",
   "metadata": {},
   "source": [
    "## b) Qual a distribuição do tempo de entrega dos pedidos?"
   ]
  },
  {
   "cell_type": "markdown",
   "id": "5d15ebcc-8daf-40ae-b8c6-3fcba5d8d244",
   "metadata": {},
   "source": [
    "**Passo 1:** Calcular o tempo de entrega (em dias). <br>\n",
    "Usamos as colunas: <br>\n",
    "order_delivered_customer_date, <br>\n",
    "order_purchase_timestamp\n",
    "\n",
    "**Passo 2:** Plotar a distribuição"
   ]
  },
  {
   "cell_type": "code",
   "execution_count": 114,
   "id": "60f313d0-8546-4200-95b8-6d1144fdf4fb",
   "metadata": {},
   "outputs": [],
   "source": [
    "# Calculando o tempo de entrega em dias\n",
    "orders['delivery_time_days'] = (orders['order_delivered_customer_date'] - orders['order_purchase_timestamp']).dt.days\n",
    "\n",
    "# Removendo entregas nulas (ex: pedidos cancelados)\n",
    "orders_valid = orders[orders['delivery_time_days'].notnull()]\n"
   ]
  },
  {
   "cell_type": "code",
   "execution_count": 196,
   "id": "53fe6f4e-6091-483c-b383-200cc3010ce4",
   "metadata": {},
   "outputs": [
    {
     "data": {
      "application/vnd.plotly.v1+json": {
       "config": {
        "plotlyServerURL": "https://plot.ly"
       },
       "data": [
        {
         "alignmentgroup": "True",
         "hovertemplate": "Faixa de Entrega (dias)=%{x}<br>Quantidade de pedidos=%{text}<extra></extra>",
         "legendgroup": "",
         "marker": {
          "color": "skyblue",
          "pattern": {
           "shape": ""
          }
         },
         "name": "",
         "offsetgroup": "",
         "orientation": "v",
         "showlegend": false,
         "text": [
          13430,
          33052,
          23614,
          12154,
          6429,
          3244,
          1752,
          1044,
          665,
          421,
          365,
          306
         ],
         "textposition": "outside",
         "type": "bar",
         "x": [
          "0–4",
          "5–9",
          "10–14",
          "15–19",
          "20–24",
          "25–29",
          "30–34",
          "35–39",
          "40–44",
          "45–49",
          "50–59",
          "60+"
         ],
         "xaxis": "x",
         "y": [
          13430,
          33052,
          23614,
          12154,
          6429,
          3244,
          1752,
          1044,
          665,
          421,
          365,
          306
         ],
         "yaxis": "y"
        }
       ],
       "layout": {
        "bargap": 0.05,
        "barmode": "relative",
        "height": 500,
        "legend": {
         "tracegroupgap": 0
        },
        "plot_bgcolor": "white",
        "showlegend": false,
        "template": {
         "data": {
          "bar": [
           {
            "error_x": {
             "color": "#2a3f5f"
            },
            "error_y": {
             "color": "#2a3f5f"
            },
            "marker": {
             "line": {
              "color": "#E5ECF6",
              "width": 0.5
             },
             "pattern": {
              "fillmode": "overlay",
              "size": 10,
              "solidity": 0.2
             }
            },
            "type": "bar"
           }
          ],
          "barpolar": [
           {
            "marker": {
             "line": {
              "color": "#E5ECF6",
              "width": 0.5
             },
             "pattern": {
              "fillmode": "overlay",
              "size": 10,
              "solidity": 0.2
             }
            },
            "type": "barpolar"
           }
          ],
          "carpet": [
           {
            "aaxis": {
             "endlinecolor": "#2a3f5f",
             "gridcolor": "white",
             "linecolor": "white",
             "minorgridcolor": "white",
             "startlinecolor": "#2a3f5f"
            },
            "baxis": {
             "endlinecolor": "#2a3f5f",
             "gridcolor": "white",
             "linecolor": "white",
             "minorgridcolor": "white",
             "startlinecolor": "#2a3f5f"
            },
            "type": "carpet"
           }
          ],
          "choropleth": [
           {
            "colorbar": {
             "outlinewidth": 0,
             "ticks": ""
            },
            "type": "choropleth"
           }
          ],
          "contour": [
           {
            "colorbar": {
             "outlinewidth": 0,
             "ticks": ""
            },
            "colorscale": [
             [
              0,
              "#0d0887"
             ],
             [
              0.1111111111111111,
              "#46039f"
             ],
             [
              0.2222222222222222,
              "#7201a8"
             ],
             [
              0.3333333333333333,
              "#9c179e"
             ],
             [
              0.4444444444444444,
              "#bd3786"
             ],
             [
              0.5555555555555556,
              "#d8576b"
             ],
             [
              0.6666666666666666,
              "#ed7953"
             ],
             [
              0.7777777777777778,
              "#fb9f3a"
             ],
             [
              0.8888888888888888,
              "#fdca26"
             ],
             [
              1,
              "#f0f921"
             ]
            ],
            "type": "contour"
           }
          ],
          "contourcarpet": [
           {
            "colorbar": {
             "outlinewidth": 0,
             "ticks": ""
            },
            "type": "contourcarpet"
           }
          ],
          "heatmap": [
           {
            "colorbar": {
             "outlinewidth": 0,
             "ticks": ""
            },
            "colorscale": [
             [
              0,
              "#0d0887"
             ],
             [
              0.1111111111111111,
              "#46039f"
             ],
             [
              0.2222222222222222,
              "#7201a8"
             ],
             [
              0.3333333333333333,
              "#9c179e"
             ],
             [
              0.4444444444444444,
              "#bd3786"
             ],
             [
              0.5555555555555556,
              "#d8576b"
             ],
             [
              0.6666666666666666,
              "#ed7953"
             ],
             [
              0.7777777777777778,
              "#fb9f3a"
             ],
             [
              0.8888888888888888,
              "#fdca26"
             ],
             [
              1,
              "#f0f921"
             ]
            ],
            "type": "heatmap"
           }
          ],
          "heatmapgl": [
           {
            "colorbar": {
             "outlinewidth": 0,
             "ticks": ""
            },
            "colorscale": [
             [
              0,
              "#0d0887"
             ],
             [
              0.1111111111111111,
              "#46039f"
             ],
             [
              0.2222222222222222,
              "#7201a8"
             ],
             [
              0.3333333333333333,
              "#9c179e"
             ],
             [
              0.4444444444444444,
              "#bd3786"
             ],
             [
              0.5555555555555556,
              "#d8576b"
             ],
             [
              0.6666666666666666,
              "#ed7953"
             ],
             [
              0.7777777777777778,
              "#fb9f3a"
             ],
             [
              0.8888888888888888,
              "#fdca26"
             ],
             [
              1,
              "#f0f921"
             ]
            ],
            "type": "heatmapgl"
           }
          ],
          "histogram": [
           {
            "marker": {
             "pattern": {
              "fillmode": "overlay",
              "size": 10,
              "solidity": 0.2
             }
            },
            "type": "histogram"
           }
          ],
          "histogram2d": [
           {
            "colorbar": {
             "outlinewidth": 0,
             "ticks": ""
            },
            "colorscale": [
             [
              0,
              "#0d0887"
             ],
             [
              0.1111111111111111,
              "#46039f"
             ],
             [
              0.2222222222222222,
              "#7201a8"
             ],
             [
              0.3333333333333333,
              "#9c179e"
             ],
             [
              0.4444444444444444,
              "#bd3786"
             ],
             [
              0.5555555555555556,
              "#d8576b"
             ],
             [
              0.6666666666666666,
              "#ed7953"
             ],
             [
              0.7777777777777778,
              "#fb9f3a"
             ],
             [
              0.8888888888888888,
              "#fdca26"
             ],
             [
              1,
              "#f0f921"
             ]
            ],
            "type": "histogram2d"
           }
          ],
          "histogram2dcontour": [
           {
            "colorbar": {
             "outlinewidth": 0,
             "ticks": ""
            },
            "colorscale": [
             [
              0,
              "#0d0887"
             ],
             [
              0.1111111111111111,
              "#46039f"
             ],
             [
              0.2222222222222222,
              "#7201a8"
             ],
             [
              0.3333333333333333,
              "#9c179e"
             ],
             [
              0.4444444444444444,
              "#bd3786"
             ],
             [
              0.5555555555555556,
              "#d8576b"
             ],
             [
              0.6666666666666666,
              "#ed7953"
             ],
             [
              0.7777777777777778,
              "#fb9f3a"
             ],
             [
              0.8888888888888888,
              "#fdca26"
             ],
             [
              1,
              "#f0f921"
             ]
            ],
            "type": "histogram2dcontour"
           }
          ],
          "mesh3d": [
           {
            "colorbar": {
             "outlinewidth": 0,
             "ticks": ""
            },
            "type": "mesh3d"
           }
          ],
          "parcoords": [
           {
            "line": {
             "colorbar": {
              "outlinewidth": 0,
              "ticks": ""
             }
            },
            "type": "parcoords"
           }
          ],
          "pie": [
           {
            "automargin": true,
            "type": "pie"
           }
          ],
          "scatter": [
           {
            "fillpattern": {
             "fillmode": "overlay",
             "size": 10,
             "solidity": 0.2
            },
            "type": "scatter"
           }
          ],
          "scatter3d": [
           {
            "line": {
             "colorbar": {
              "outlinewidth": 0,
              "ticks": ""
             }
            },
            "marker": {
             "colorbar": {
              "outlinewidth": 0,
              "ticks": ""
             }
            },
            "type": "scatter3d"
           }
          ],
          "scattercarpet": [
           {
            "marker": {
             "colorbar": {
              "outlinewidth": 0,
              "ticks": ""
             }
            },
            "type": "scattercarpet"
           }
          ],
          "scattergeo": [
           {
            "marker": {
             "colorbar": {
              "outlinewidth": 0,
              "ticks": ""
             }
            },
            "type": "scattergeo"
           }
          ],
          "scattergl": [
           {
            "marker": {
             "colorbar": {
              "outlinewidth": 0,
              "ticks": ""
             }
            },
            "type": "scattergl"
           }
          ],
          "scattermapbox": [
           {
            "marker": {
             "colorbar": {
              "outlinewidth": 0,
              "ticks": ""
             }
            },
            "type": "scattermapbox"
           }
          ],
          "scatterpolar": [
           {
            "marker": {
             "colorbar": {
              "outlinewidth": 0,
              "ticks": ""
             }
            },
            "type": "scatterpolar"
           }
          ],
          "scatterpolargl": [
           {
            "marker": {
             "colorbar": {
              "outlinewidth": 0,
              "ticks": ""
             }
            },
            "type": "scatterpolargl"
           }
          ],
          "scatterternary": [
           {
            "marker": {
             "colorbar": {
              "outlinewidth": 0,
              "ticks": ""
             }
            },
            "type": "scatterternary"
           }
          ],
          "surface": [
           {
            "colorbar": {
             "outlinewidth": 0,
             "ticks": ""
            },
            "colorscale": [
             [
              0,
              "#0d0887"
             ],
             [
              0.1111111111111111,
              "#46039f"
             ],
             [
              0.2222222222222222,
              "#7201a8"
             ],
             [
              0.3333333333333333,
              "#9c179e"
             ],
             [
              0.4444444444444444,
              "#bd3786"
             ],
             [
              0.5555555555555556,
              "#d8576b"
             ],
             [
              0.6666666666666666,
              "#ed7953"
             ],
             [
              0.7777777777777778,
              "#fb9f3a"
             ],
             [
              0.8888888888888888,
              "#fdca26"
             ],
             [
              1,
              "#f0f921"
             ]
            ],
            "type": "surface"
           }
          ],
          "table": [
           {
            "cells": {
             "fill": {
              "color": "#EBF0F8"
             },
             "line": {
              "color": "white"
             }
            },
            "header": {
             "fill": {
              "color": "#C8D4E3"
             },
             "line": {
              "color": "white"
             }
            },
            "type": "table"
           }
          ]
         },
         "layout": {
          "annotationdefaults": {
           "arrowcolor": "#2a3f5f",
           "arrowhead": 0,
           "arrowwidth": 1
          },
          "autotypenumbers": "strict",
          "coloraxis": {
           "colorbar": {
            "outlinewidth": 0,
            "ticks": ""
           }
          },
          "colorscale": {
           "diverging": [
            [
             0,
             "#8e0152"
            ],
            [
             0.1,
             "#c51b7d"
            ],
            [
             0.2,
             "#de77ae"
            ],
            [
             0.3,
             "#f1b6da"
            ],
            [
             0.4,
             "#fde0ef"
            ],
            [
             0.5,
             "#f7f7f7"
            ],
            [
             0.6,
             "#e6f5d0"
            ],
            [
             0.7,
             "#b8e186"
            ],
            [
             0.8,
             "#7fbc41"
            ],
            [
             0.9,
             "#4d9221"
            ],
            [
             1,
             "#276419"
            ]
           ],
           "sequential": [
            [
             0,
             "#0d0887"
            ],
            [
             0.1111111111111111,
             "#46039f"
            ],
            [
             0.2222222222222222,
             "#7201a8"
            ],
            [
             0.3333333333333333,
             "#9c179e"
            ],
            [
             0.4444444444444444,
             "#bd3786"
            ],
            [
             0.5555555555555556,
             "#d8576b"
            ],
            [
             0.6666666666666666,
             "#ed7953"
            ],
            [
             0.7777777777777778,
             "#fb9f3a"
            ],
            [
             0.8888888888888888,
             "#fdca26"
            ],
            [
             1,
             "#f0f921"
            ]
           ],
           "sequentialminus": [
            [
             0,
             "#0d0887"
            ],
            [
             0.1111111111111111,
             "#46039f"
            ],
            [
             0.2222222222222222,
             "#7201a8"
            ],
            [
             0.3333333333333333,
             "#9c179e"
            ],
            [
             0.4444444444444444,
             "#bd3786"
            ],
            [
             0.5555555555555556,
             "#d8576b"
            ],
            [
             0.6666666666666666,
             "#ed7953"
            ],
            [
             0.7777777777777778,
             "#fb9f3a"
            ],
            [
             0.8888888888888888,
             "#fdca26"
            ],
            [
             1,
             "#f0f921"
            ]
           ]
          },
          "colorway": [
           "#636efa",
           "#EF553B",
           "#00cc96",
           "#ab63fa",
           "#FFA15A",
           "#19d3f3",
           "#FF6692",
           "#B6E880",
           "#FF97FF",
           "#FECB52"
          ],
          "font": {
           "color": "#2a3f5f"
          },
          "geo": {
           "bgcolor": "white",
           "lakecolor": "white",
           "landcolor": "#E5ECF6",
           "showlakes": true,
           "showland": true,
           "subunitcolor": "white"
          },
          "hoverlabel": {
           "align": "left"
          },
          "hovermode": "closest",
          "mapbox": {
           "style": "light"
          },
          "paper_bgcolor": "white",
          "plot_bgcolor": "#E5ECF6",
          "polar": {
           "angularaxis": {
            "gridcolor": "white",
            "linecolor": "white",
            "ticks": ""
           },
           "bgcolor": "#E5ECF6",
           "radialaxis": {
            "gridcolor": "white",
            "linecolor": "white",
            "ticks": ""
           }
          },
          "scene": {
           "xaxis": {
            "backgroundcolor": "#E5ECF6",
            "gridcolor": "white",
            "gridwidth": 2,
            "linecolor": "white",
            "showbackground": true,
            "ticks": "",
            "zerolinecolor": "white"
           },
           "yaxis": {
            "backgroundcolor": "#E5ECF6",
            "gridcolor": "white",
            "gridwidth": 2,
            "linecolor": "white",
            "showbackground": true,
            "ticks": "",
            "zerolinecolor": "white"
           },
           "zaxis": {
            "backgroundcolor": "#E5ECF6",
            "gridcolor": "white",
            "gridwidth": 2,
            "linecolor": "white",
            "showbackground": true,
            "ticks": "",
            "zerolinecolor": "white"
           }
          },
          "shapedefaults": {
           "line": {
            "color": "#2a3f5f"
           }
          },
          "ternary": {
           "aaxis": {
            "gridcolor": "white",
            "linecolor": "white",
            "ticks": ""
           },
           "baxis": {
            "gridcolor": "white",
            "linecolor": "white",
            "ticks": ""
           },
           "bgcolor": "#E5ECF6",
           "caxis": {
            "gridcolor": "white",
            "linecolor": "white",
            "ticks": ""
           }
          },
          "title": {
           "x": 0.05
          },
          "xaxis": {
           "automargin": true,
           "gridcolor": "white",
           "linecolor": "white",
           "ticks": "",
           "title": {
            "standoff": 15
           },
           "zerolinecolor": "white",
           "zerolinewidth": 2
          },
          "yaxis": {
           "automargin": true,
           "gridcolor": "white",
           "linecolor": "white",
           "ticks": "",
           "title": {
            "standoff": 15
           },
           "zerolinecolor": "white",
           "zerolinewidth": 2
          }
         }
        },
        "title": {
         "text": "Distribuição do Tempo de Entrega"
        },
        "width": 1000,
        "xaxis": {
         "anchor": "y",
         "autorange": true,
         "domain": [
          0,
          1
         ],
         "range": [
          -0.5,
          11.5
         ],
         "tickangle": 0,
         "tickfont": {
          "size": 11
         },
         "title": {
          "text": "Faixa de Entrega (dias)"
         },
         "type": "category"
        },
        "yaxis": {
         "anchor": "x",
         "autorange": true,
         "domain": [
          0,
          1
         ],
         "range": [
          0,
          34791.57894736842
         ],
         "title": {
          "text": "Qtd. de Pedidos"
         },
         "type": "linear"
        }
       }
      },
      "image/png": "[encoded data removed]",
      "text/html": [
       "<div>                            <div id=\"6873cb07-b4a4-43e5-b2a1-9b8318fcc0e4\" class=\"plotly-graph-div\" style=\"height:500px; width:1000px;\"></div>            <script type=\"text/javascript\">                require([\"plotly\"], function(Plotly) {                    window.PLOTLYENV=window.PLOTLYENV || {};                                    if (document.getElementById(\"6873cb07-b4a4-43e5-b2a1-9b8318fcc0e4\")) {                    Plotly.newPlot(                        \"6873cb07-b4a4-43e5-b2a1-9b8318fcc0e4\",                        [{\"alignmentgroup\":\"True\",\"hovertemplate\":\"Faixa de Entrega (dias)=%{x}\\u003cbr\\u003eQuantidade de pedidos=%{text}\\u003cextra\\u003e\\u003c\\u002fextra\\u003e\",\"legendgroup\":\"\",\"marker\":{\"color\":\"skyblue\",\"pattern\":{\"shape\":\"\"}},\"name\":\"\",\"offsetgroup\":\"\",\"orientation\":\"v\",\"showlegend\":false,\"text\":[13430.0,33052.0,23614.0,12154.0,6429.0,3244.0,1752.0,1044.0,665.0,421.0,365.0,306.0],\"textposition\":\"outside\",\"x\":[\"0\\u20134\",\"5\\u20139\",\"10\\u201314\",\"15\\u201319\",\"20\\u201324\",\"25\\u201329\",\"30\\u201334\",\"35\\u201339\",\"40\\u201344\",\"45\\u201349\",\"50\\u201359\",\"60+\"],\"xaxis\":\"x\",\"y\":[13430,33052,23614,12154,6429,3244,1752,1044,665,421,365,306],\"yaxis\":\"y\",\"type\":\"bar\"}],                        {\"template\":{\"data\":{\"histogram2dcontour\":[{\"type\":\"histogram2dcontour\",\"colorbar\":{\"outlinewidth\":0,\"ticks\":\"\"},\"colorscale\":[[0.0,\"#0d0887\"],[0.1111111111111111,\"#46039f\"],[0.2222222222222222,\"#7201a8\"],[0.3333333333333333,\"#9c179e\"],[0.4444444444444444,\"#bd3786\"],[0.5555555555555556,\"#d8576b\"],[0.6666666666666666,\"#ed7953\"],[0.7777777777777778,\"#fb9f3a\"],[0.8888888888888888,\"#fdca26\"],[1.0,\"#f0f921\"]]}],\"choropleth\":[{\"type\":\"choropleth\",\"colorbar\":{\"outlinewidth\":0,\"ticks\":\"\"}}],\"histogram2d\":[{\"type\":\"histogram2d\",\"colorbar\":{\"outlinewidth\":0,\"ticks\":\"\"},\"colorscale\":[[0.0,\"#0d0887\"],[0.1111111111111111,\"#46039f\"],[0.2222222222222222,\"#7201a8\"],[0.3333333333333333,\"#9c179e\"],[0.4444444444444444,\"#bd3786\"],[0.5555555555555556,\"#d8576b\"],[0.6666666666666666,\"#ed7953\"],[0.7777777777777778,\"#fb9f3a\"],[0.8888888888888888,\"#fdca26\"],[1.0,\"#f0f921\"]]}],\"heatmap\":[{\"type\":\"heatmap\",\"colorbar\":{\"outlinewidth\":0,\"ticks\":\"\"},\"colorscale\":[[0.0,\"#0d0887\"],[0.1111111111111111,\"#46039f\"],[0.2222222222222222,\"#7201a8\"],[0.3333333333333333,\"#9c179e\"],[0.4444444444444444,\"#bd3786\"],[0.5555555555555556,\"#d8576b\"],[0.6666666666666666,\"#ed7953\"],[0.7777777777777778,\"#fb9f3a\"],[0.8888888888888888,\"#fdca26\"],[1.0,\"#f0f921\"]]}],\"heatmapgl\":[{\"type\":\"heatmapgl\",\"colorbar\":{\"outlinewidth\":0,\"ticks\":\"\"},\"colorscale\":[[0.0,\"#0d0887\"],[0.1111111111111111,\"#46039f\"],[0.2222222222222222,\"#7201a8\"],[0.3333333333333333,\"#9c179e\"],[0.4444444444444444,\"#bd3786\"],[0.5555555555555556,\"#d8576b\"],[0.6666666666666666,\"#ed7953\"],[0.7777777777777778,\"#fb9f3a\"],[0.8888888888888888,\"#fdca26\"],[1.0,\"#f0f921\"]]}],\"contourcarpet\":[{\"type\":\"contourcarpet\",\"colorbar\":{\"outlinewidth\":0,\"ticks\":\"\"}}],\"contour\":[{\"type\":\"contour\",\"colorbar\":{\"outlinewidth\":0,\"ticks\":\"\"},\"colorscale\":[[0.0,\"#0d0887\"],[0.1111111111111111,\"#46039f\"],[0.2222222222222222,\"#7201a8\"],[0.3333333333333333,\"#9c179e\"],[0.4444444444444444,\"#bd3786\"],[0.5555555555555556,\"#d8576b\"],[0.6666666666666666,\"#ed7953\"],[0.7777777777777778,\"#fb9f3a\"],[0.8888888888888888,\"#fdca26\"],[1.0,\"#f0f921\"]]}],\"surface\":[{\"type\":\"surface\",\"colorbar\":{\"outlinewidth\":0,\"ticks\":\"\"},\"colorscale\":[[0.0,\"#0d0887\"],[0.1111111111111111,\"#46039f\"],[0.2222222222222222,\"#7201a8\"],[0.3333333333333333,\"#9c179e\"],[0.4444444444444444,\"#bd3786\"],[0.5555555555555556,\"#d8576b\"],[0.6666666666666666,\"#ed7953\"],[0.7777777777777778,\"#fb9f3a\"],[0.8888888888888888,\"#fdca26\"],[1.0,\"#f0f921\"]]}],\"mesh3d\":[{\"type\":\"mesh3d\",\"colorbar\":{\"outlinewidth\":0,\"ticks\":\"\"}}],\"scatter\":[{\"fillpattern\":{\"fillmode\":\"overlay\",\"size\":10,\"solidity\":0.2},\"type\":\"scatter\"}],\"parcoords\":[{\"type\":\"parcoords\",\"line\":{\"colorbar\":{\"outlinewidth\":0,\"ticks\":\"\"}}}],\"scatterpolargl\":[{\"type\":\"scatterpolargl\",\"marker\":{\"colorbar\":{\"outlinewidth\":0,\"ticks\":\"\"}}}],\"bar\":[{\"error_x\":{\"color\":\"#2a3f5f\"},\"error_y\":{\"color\":\"#2a3f5f\"},\"marker\":{\"line\":{\"color\":\"#E5ECF6\",\"width\":0.5},\"pattern\":{\"fillmode\":\"overlay\",\"size\":10,\"solidity\":0.2}},\"type\":\"bar\"}],\"scattergeo\":[{\"type\":\"scattergeo\",\"marker\":{\"colorbar\":{\"outlinewidth\":0,\"ticks\":\"\"}}}],\"scatterpolar\":[{\"type\":\"scatterpolar\",\"marker\":{\"colorbar\":{\"outlinewidth\":0,\"ticks\":\"\"}}}],\"histogram\":[{\"marker\":{\"pattern\":{\"fillmode\":\"overlay\",\"size\":10,\"solidity\":0.2}},\"type\":\"histogram\"}],\"scattergl\":[{\"type\":\"scattergl\",\"marker\":{\"colorbar\":{\"outlinewidth\":0,\"ticks\":\"\"}}}],\"scatter3d\":[{\"type\":\"scatter3d\",\"line\":{\"colorbar\":{\"outlinewidth\":0,\"ticks\":\"\"}},\"marker\":{\"colorbar\":{\"outlinewidth\":0,\"ticks\":\"\"}}}],\"scattermapbox\":[{\"type\":\"scattermapbox\",\"marker\":{\"colorbar\":{\"outlinewidth\":0,\"ticks\":\"\"}}}],\"scatterternary\":[{\"type\":\"scatterternary\",\"marker\":{\"colorbar\":{\"outlinewidth\":0,\"ticks\":\"\"}}}],\"scattercarpet\":[{\"type\":\"scattercarpet\",\"marker\":{\"colorbar\":{\"outlinewidth\":0,\"ticks\":\"\"}}}],\"carpet\":[{\"aaxis\":{\"endlinecolor\":\"#2a3f5f\",\"gridcolor\":\"white\",\"linecolor\":\"white\",\"minorgridcolor\":\"white\",\"startlinecolor\":\"#2a3f5f\"},\"baxis\":{\"endlinecolor\":\"#2a3f5f\",\"gridcolor\":\"white\",\"linecolor\":\"white\",\"minorgridcolor\":\"white\",\"startlinecolor\":\"#2a3f5f\"},\"type\":\"carpet\"}],\"table\":[{\"cells\":{\"fill\":{\"color\":\"#EBF0F8\"},\"line\":{\"color\":\"white\"}},\"header\":{\"fill\":{\"color\":\"#C8D4E3\"},\"line\":{\"color\":\"white\"}},\"type\":\"table\"}],\"barpolar\":[{\"marker\":{\"line\":{\"color\":\"#E5ECF6\",\"width\":0.5},\"pattern\":{\"fillmode\":\"overlay\",\"size\":10,\"solidity\":0.2}},\"type\":\"barpolar\"}],\"pie\":[{\"automargin\":true,\"type\":\"pie\"}]},\"layout\":{\"autotypenumbers\":\"strict\",\"colorway\":[\"#636efa\",\"#EF553B\",\"#00cc96\",\"#ab63fa\",\"#FFA15A\",\"#19d3f3\",\"#FF6692\",\"#B6E880\",\"#FF97FF\",\"#FECB52\"],\"font\":{\"color\":\"#2a3f5f\"},\"hovermode\":\"closest\",\"hoverlabel\":{\"align\":\"left\"},\"paper_bgcolor\":\"white\",\"plot_bgcolor\":\"#E5ECF6\",\"polar\":{\"bgcolor\":\"#E5ECF6\",\"angularaxis\":{\"gridcolor\":\"white\",\"linecolor\":\"white\",\"ticks\":\"\"},\"radialaxis\":{\"gridcolor\":\"white\",\"linecolor\":\"white\",\"ticks\":\"\"}},\"ternary\":{\"bgcolor\":\"#E5ECF6\",\"aaxis\":{\"gridcolor\":\"white\",\"linecolor\":\"white\",\"ticks\":\"\"},\"baxis\":{\"gridcolor\":\"white\",\"linecolor\":\"white\",\"ticks\":\"\"},\"caxis\":{\"gridcolor\":\"white\",\"linecolor\":\"white\",\"ticks\":\"\"}},\"coloraxis\":{\"colorbar\":{\"outlinewidth\":0,\"ticks\":\"\"}},\"colorscale\":{\"sequential\":[[0.0,\"#0d0887\"],[0.1111111111111111,\"#46039f\"],[0.2222222222222222,\"#7201a8\"],[0.3333333333333333,\"#9c179e\"],[0.4444444444444444,\"#bd3786\"],[0.5555555555555556,\"#d8576b\"],[0.6666666666666666,\"#ed7953\"],[0.7777777777777778,\"#fb9f3a\"],[0.8888888888888888,\"#fdca26\"],[1.0,\"#f0f921\"]],\"sequentialminus\":[[0.0,\"#0d0887\"],[0.1111111111111111,\"#46039f\"],[0.2222222222222222,\"#7201a8\"],[0.3333333333333333,\"#9c179e\"],[0.4444444444444444,\"#bd3786\"],[0.5555555555555556,\"#d8576b\"],[0.6666666666666666,\"#ed7953\"],[0.7777777777777778,\"#fb9f3a\"],[0.8888888888888888,\"#fdca26\"],[1.0,\"#f0f921\"]],\"diverging\":[[0,\"#8e0152\"],[0.1,\"#c51b7d\"],[0.2,\"#de77ae\"],[0.3,\"#f1b6da\"],[0.4,\"#fde0ef\"],[0.5,\"#f7f7f7\"],[0.6,\"#e6f5d0\"],[0.7,\"#b8e186\"],[0.8,\"#7fbc41\"],[0.9,\"#4d9221\"],[1,\"#276419\"]]},\"xaxis\":{\"gridcolor\":\"white\",\"linecolor\":\"white\",\"ticks\":\"\",\"title\":{\"standoff\":15},\"zerolinecolor\":\"white\",\"automargin\":true,\"zerolinewidth\":2},\"yaxis\":{\"gridcolor\":\"white\",\"linecolor\":\"white\",\"ticks\":\"\",\"title\":{\"standoff\":15},\"zerolinecolor\":\"white\",\"automargin\":true,\"zerolinewidth\":2},\"scene\":{\"xaxis\":{\"backgroundcolor\":\"#E5ECF6\",\"gridcolor\":\"white\",\"linecolor\":\"white\",\"showbackground\":true,\"ticks\":\"\",\"zerolinecolor\":\"white\",\"gridwidth\":2},\"yaxis\":{\"backgroundcolor\":\"#E5ECF6\",\"gridcolor\":\"white\",\"linecolor\":\"white\",\"showbackground\":true,\"ticks\":\"\",\"zerolinecolor\":\"white\",\"gridwidth\":2},\"zaxis\":{\"backgroundcolor\":\"#E5ECF6\",\"gridcolor\":\"white\",\"linecolor\":\"white\",\"showbackground\":true,\"ticks\":\"\",\"zerolinecolor\":\"white\",\"gridwidth\":2}},\"shapedefaults\":{\"line\":{\"color\":\"#2a3f5f\"}},\"annotationdefaults\":{\"arrowcolor\":\"#2a3f5f\",\"arrowhead\":0,\"arrowwidth\":1},\"geo\":{\"bgcolor\":\"white\",\"landcolor\":\"#E5ECF6\",\"subunitcolor\":\"white\",\"showland\":true,\"showlakes\":true,\"lakecolor\":\"white\"},\"title\":{\"x\":0.05},\"mapbox\":{\"style\":\"light\"}}},\"xaxis\":{\"anchor\":\"y\",\"domain\":[0.0,1.0],\"title\":{\"text\":\"Faixa de Entrega (dias)\"},\"tickfont\":{\"size\":11},\"tickangle\":0},\"yaxis\":{\"anchor\":\"x\",\"domain\":[0.0,1.0],\"title\":{\"text\":\"Qtd. de Pedidos\"}},\"legend\":{\"tracegroupgap\":0},\"title\":{\"text\":\"Distribui\\u00e7\\u00e3o do Tempo de Entrega\"},\"barmode\":\"relative\",\"showlegend\":false,\"plot_bgcolor\":\"white\",\"bargap\":0.05,\"width\":1000,\"height\":500},                        {\"responsive\": true}                    ).then(function(){\n",
       "                            \n",
       "var gd = document.getElementById('6873cb07-b4a4-43e5-b2a1-9b8318fcc0e4');\n",
       "var x = new MutationObserver(function (mutations, observer) {{\n",
       "        var display = window.getComputedStyle(gd).display;\n",
       "        if (!display || display === 'none') {{\n",
       "            console.log([gd, 'removed!']);\n",
       "            Plotly.purge(gd);\n",
       "            observer.disconnect();\n",
       "        }}\n",
       "}});\n",
       "\n",
       "// Listen for the removal of the full notebook cells\n",
       "var notebookContainer = gd.closest('#notebook-container');\n",
       "if (notebookContainer) {{\n",
       "    x.observe(notebookContainer, {childList: true});\n",
       "}}\n",
       "\n",
       "// Listen for the clearing of the current output cell\n",
       "var outputEl = gd.closest('.output');\n",
       "if (outputEl) {{\n",
       "    x.observe(outputEl, {childList: true});\n",
       "}}\n",
       "\n",
       "                        })                };                });            </script>        </div>"
      ]
     },
     "metadata": {},
     "output_type": "display_data"
    }
   ],
   "source": [
    "# Cópia dos dados válidos\n",
    "df_plot = orders_valid.copy()\n",
    "\n",
    "# Definindo as faixas (bins) e seus rótulos\n",
    "bins = [0, 5, 10, 15, 20, 25, 30, 35, 40, 45, 50, 60, float('inf')]\n",
    "labels = [\n",
    "    '0–4', '5–9', '10–14', '15–19', '20–24', '25–29',\n",
    "    '30–34', '35–39', '40–44', '45–49', '50–59', '60+'\n",
    "]\n",
    "\n",
    "# Criar faixa de entrega\n",
    "df_plot['faixa_entrega'] = pd.cut(\n",
    "    df_plot['delivery_time_days'],\n",
    "    bins=bins,\n",
    "    labels=labels,\n",
    "    right=False\n",
    ")\n",
    "\n",
    "# Agrupar por faixa\n",
    "faixa_counts = df_plot['faixa_entrega'].value_counts().sort_index().reset_index()\n",
    "faixa_counts.columns = ['faixa_entrega', 'quantidade_pedidos']\n",
    "\n",
    "# Criar gráfico\n",
    "fig = px.bar(\n",
    "    faixa_counts,\n",
    "    x='faixa_entrega',\n",
    "    y='quantidade_pedidos',\n",
    "    text='quantidade_pedidos',\n",
    "    color_discrete_sequence=['skyblue'],\n",
    "    labels={\n",
    "        'faixa_entrega': 'Faixa de Entrega (dias)',\n",
    "        'quantidade_pedidos': 'Quantidade de pedidos'\n",
    "    },\n",
    "    title='Distribuição do Tempo de Entrega'\n",
    ")\n",
    "\n",
    "# Ajustes visuais\n",
    "fig.update_traces(textposition='outside')\n",
    "fig.update_layout(\n",
    "    showlegend=False,\n",
    "    xaxis_title='Faixa de Entrega (dias)',\n",
    "    yaxis_title='Qtd. de Pedidos',\n",
    "    plot_bgcolor='white',\n",
    "    bargap=0.05,\n",
    "    width=1000,\n",
    "    height=500,\n",
    "    xaxis=dict(\n",
    "        tickangle=0,\n",
    "        tickfont=dict(size=11)\n",
    "    )\n",
    ")\n",
    "\n",
    "fig.show()\n"
   ]
  },
  {
   "cell_type": "code",
   "execution_count": 202,
   "id": "4651b032-fb25-4939-88d4-e9c48c1fa828",
   "metadata": {},
   "outputs": [
    {
     "data": {
      "text/html": [
       "<div>\n",
       "<style scoped>\n",
       "    .dataframe tbody tr th:only-of-type {\n",
       "        vertical-align: middle;\n",
       "    }\n",
       "\n",
       "    .dataframe tbody tr th {\n",
       "        vertical-align: top;\n",
       "    }\n",
       "\n",
       "    .dataframe thead th {\n",
       "        text-align: right;\n",
       "    }\n",
       "</style>\n",
       "<table border=\"1\" class=\"dataframe\">\n",
       "  <thead>\n",
       "    <tr style=\"text-align: right;\">\n",
       "      <th></th>\n",
       "      <th>Faixa de entrega (Dias)</th>\n",
       "      <th>N° de Pedidos</th>\n",
       "    </tr>\n",
       "  </thead>\n",
       "  <tbody>\n",
       "    <tr>\n",
       "      <th>0</th>\n",
       "      <td>0–4</td>\n",
       "      <td>13430</td>\n",
       "    </tr>\n",
       "    <tr>\n",
       "      <th>1</th>\n",
       "      <td>5–9</td>\n",
       "      <td>33052</td>\n",
       "    </tr>\n",
       "    <tr>\n",
       "      <th>2</th>\n",
       "      <td>10–14</td>\n",
       "      <td>23614</td>\n",
       "    </tr>\n",
       "    <tr>\n",
       "      <th>3</th>\n",
       "      <td>15–19</td>\n",
       "      <td>12154</td>\n",
       "    </tr>\n",
       "    <tr>\n",
       "      <th>4</th>\n",
       "      <td>20–24</td>\n",
       "      <td>6429</td>\n",
       "    </tr>\n",
       "    <tr>\n",
       "      <th>5</th>\n",
       "      <td>25–29</td>\n",
       "      <td>3244</td>\n",
       "    </tr>\n",
       "    <tr>\n",
       "      <th>6</th>\n",
       "      <td>30–34</td>\n",
       "      <td>1752</td>\n",
       "    </tr>\n",
       "    <tr>\n",
       "      <th>7</th>\n",
       "      <td>35–39</td>\n",
       "      <td>1044</td>\n",
       "    </tr>\n",
       "    <tr>\n",
       "      <th>8</th>\n",
       "      <td>40–44</td>\n",
       "      <td>665</td>\n",
       "    </tr>\n",
       "    <tr>\n",
       "      <th>9</th>\n",
       "      <td>45–49</td>\n",
       "      <td>421</td>\n",
       "    </tr>\n",
       "    <tr>\n",
       "      <th>10</th>\n",
       "      <td>50–59</td>\n",
       "      <td>365</td>\n",
       "    </tr>\n",
       "    <tr>\n",
       "      <th>11</th>\n",
       "      <td>60+</td>\n",
       "      <td>306</td>\n",
       "    </tr>\n",
       "  </tbody>\n",
       "</table>\n",
       "</div>"
      ],
      "text/plain": [
       "   Faixa de entrega (Dias)  N° de Pedidos\n",
       "0                      0–4          13430\n",
       "1                      5–9          33052\n",
       "2                    10–14          23614\n",
       "3                    15–19          12154\n",
       "4                    20–24           6429\n",
       "5                    25–29           3244\n",
       "6                    30–34           1752\n",
       "7                    35–39           1044\n",
       "8                    40–44            665\n",
       "9                    45–49            421\n",
       "10                   50–59            365\n",
       "11                     60+            306"
      ]
     },
     "execution_count": 202,
     "metadata": {},
     "output_type": "execute_result"
    }
   ],
   "source": [
    "query = \"\"\"\n",
    "WITH delivery_times AS (\n",
    "    SELECT \n",
    "        order_id,\n",
    "        CAST(julianday(order_delivered_customer_date) - julianday(order_purchase_timestamp) AS INTEGER) AS delivery_days\n",
    "    FROM orders\n",
    "    WHERE order_delivered_customer_date IS NOT NULL\n",
    "      AND order_purchase_timestamp IS NOT NULL\n",
    "),\n",
    "delivery_bins AS (\n",
    "    SELECT \n",
    "        delivery_days,\n",
    "        CASE\n",
    "            WHEN delivery_days BETWEEN 0 AND 4 THEN '0–4'\n",
    "            WHEN delivery_days BETWEEN 5 AND 9 THEN '5–9'\n",
    "            WHEN delivery_days BETWEEN 10 AND 14 THEN '10–14'\n",
    "            WHEN delivery_days BETWEEN 15 AND 19 THEN '15–19'\n",
    "            WHEN delivery_days BETWEEN 20 AND 24 THEN '20–24'\n",
    "            WHEN delivery_days BETWEEN 25 AND 29 THEN '25–29'\n",
    "            WHEN delivery_days BETWEEN 30 AND 34 THEN '30–34'\n",
    "            WHEN delivery_days BETWEEN 35 AND 39 THEN '35–39'\n",
    "            WHEN delivery_days BETWEEN 40 AND 44 THEN '40–44'\n",
    "            WHEN delivery_days BETWEEN 45 AND 49 THEN '45–49'\n",
    "            WHEN delivery_days BETWEEN 50 AND 59 THEN '50–59'\n",
    "            WHEN delivery_days >= 60 THEN '60+'\n",
    "            ELSE 'desconhecido'\n",
    "        END AS faixa_entrega\n",
    "    FROM delivery_times\n",
    ")\n",
    "SELECT \n",
    "    faixa_entrega as 'Faixa de entrega (Dias)',\n",
    "    COUNT(*) AS 'N° de Pedidos'\n",
    "FROM delivery_bins\n",
    "GROUP BY faixa_entrega\n",
    "ORDER BY \n",
    "    CASE \n",
    "        WHEN faixa_entrega = 'desconhecido' THEN 999\n",
    "        WHEN faixa_entrega = '60+' THEN 60\n",
    "        ELSE CAST(SUBSTR(faixa_entrega, 1, INSTR(faixa_entrega, '–')-1) AS INTEGER)\n",
    "    END\n",
    "\"\"\"\n",
    "\n",
    "# Executando a consulta\n",
    "df_delivery_sql = pd.read_sql_query(query, conn)\n",
    "\n",
    "# Visualizando\n",
    "df_delivery_sql\n"
   ]
  },
  {
   "cell_type": "code",
   "execution_count": 200,
   "id": "a59741ea-2339-4662-88cb-be74f5b8ab07",
   "metadata": {},
   "outputs": [
    {
     "data": {
      "image/png": "[encoded data removed]",
      "text/plain": [
       "<Figure size 1200x600 with 1 Axes>"
      ]
     },
     "metadata": {},
     "output_type": "display_data"
    }
   ],
   "source": [
    "colors = ['steelblue'] * len(df_delivery_sql)\n",
    "\n",
    "# Criando a figura\n",
    "plt.figure(figsize=(12, 6))\n",
    "bars = plt.bar(\n",
    "    df_delivery_sql['Faixa de entrega (Dias)'],\n",
    "    df_delivery_sql['N° de Pedidos'],\n",
    "    color=colors\n",
    ")\n",
    "\n",
    "# Adicionando rótulos nas barras\n",
    "for bar in bars:\n",
    "    height = bar.get_height()\n",
    "    plt.text(\n",
    "        bar.get_x() + bar.get_width() / 2,\n",
    "        height + 500,\n",
    "        str(int(height)),\n",
    "        ha='center',\n",
    "        fontsize=9\n",
    "    )\n",
    "\n",
    "# Títulos e eixos\n",
    "plt.title('Distribuição do Tempo de Entrega (via SQL)', fontsize=16)\n",
    "plt.xlabel('Faixa de dias para entrega')\n",
    "plt.ylabel('Quantidade de pedidos')\n",
    "plt.grid(axis='y', linestyle='--', alpha=0.5)\n",
    "\n",
    "# Limpar bordas superior e direita\n",
    "ax = plt.gca()\n",
    "ax.spines['top'].set_visible(False)\n",
    "ax.spines['right'].set_visible(False)\n",
    "\n",
    "plt.tight_layout()\n",
    "plt.show()\n"
   ]
  }
 ],
 "metadata": {
  "kernelspec": {
   "display_name": "Python 3 (ipykernel)",
   "language": "python",
   "name": "python3"
  },
  "language_info": {
   "codemirror_mode": {
    "name": "ipython",
    "version": 3
   },
   "file_extension": ".py",
   "mimetype": "text/x-python",
   "name": "python",
   "nbconvert_exporter": "python",
   "pygments_lexer": "ipython3",
   "version": "3.12.4"
  }
 },
 "nbformat": 4,
 "nbformat_minor": 5
}
